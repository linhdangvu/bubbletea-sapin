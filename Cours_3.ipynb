{
 "cells": [
  {
   "cell_type": "code",
   "execution_count": 33,
   "id": "b58c1444",
   "metadata": {},
   "outputs": [],
   "source": [
    "import numpy as np\n",
    "import matplotlib.pyplot as plt\n",
    "from numpy.linalg import solve\n",
    "from ipywidgets import interact, interactive, fixed, interact_manual\n",
    "import ipywidgets as widgets\n",
    "#from scipy.special import binom, comb\n"
   ]
  },
  {
   "cell_type": "code",
   "execution_count": 4,
   "id": "33f5452b",
   "metadata": {},
   "outputs": [
    {
     "data": {
      "application/vnd.jupyter.widget-view+json": {
       "model_id": "16e9ec896b7c41db938f25f09ac8e548",
       "version_major": 2,
       "version_minor": 0
      },
      "text/plain": [
       "interactive(children=(IntSlider(value=0, description='alpha0', max=20, min=-20), IntSlider(value=0, descriptio…"
      ]
     },
     "metadata": {},
     "output_type": "display_data"
    }
   ],
   "source": [
    "X = [0,1]\n",
    "Y = [0,2]\n",
    "\n",
    "A = np.array([[1,X[0],X[0]**2,X[0]**3],\n",
    "               [1,X[1],X[1]**2,X[1]**3],\n",
    "               [0,1,2*X[0],3*X[0]**2],\n",
    "               [0,1,2*X[1],3*X[1]**2]])\n",
    "\n",
    "Vx = np.linspace(X[0], X[1], 100)\n",
    "\n",
    "@interact(alpha0=(-20,20,1),alpha1=(-20,20,1),y0=(-5,5,0.5))\n",
    "def g(alpha0,alpha1,y0):\n",
    "    b=np.array([y0,Y[1],alpha0,alpha1])\n",
    "    Sol = solve(A, b)\n",
    "    plt.plot(X,[y0,Y[1]],marker='*',markersize=20.)\n",
    "    def P(x): return Sol[0] + Sol[1]*x + Sol[2]*x**2 + Sol[3]*x**3\n",
    "    plt.plot(Vx,P(Vx), \"-r\",linewidth=4.5)\n",
    "    plt.axis('equal')"
   ]
  },
  {
   "cell_type": "code",
   "execution_count": 7,
   "id": "25fd64f7",
   "metadata": {},
   "outputs": [
    {
     "name": "stdout",
     "output_type": "stream",
     "text": [
      "[[0. 0. 1. 2. 0. 0. 0. 0.]\n",
      " [0. 0. 0. 0. 0. 0. 0. 0.]\n",
      " [0. 0. 0. 0. 0. 0. 0. 0.]\n",
      " [0. 0. 0. 0. 0. 0. 0. 0.]\n",
      " [0. 0. 0. 0. 0. 0. 0. 0.]\n",
      " [0. 0. 0. 0. 0. 0. 0. 0.]\n",
      " [0. 0. 0. 0. 0. 0. 0. 0.]\n",
      " [0. 0. 0. 0. 0. 0. 0. 0.]]\n"
     ]
    }
   ],
   "source": [
    "Mat0 = np.zeros((8,8))\n",
    "Mat0[0,2:4] = [1,2]\n",
    "print(Mat0)"
   ]
  },
  {
   "cell_type": "code",
   "execution_count": 26,
   "id": "64939447",
   "metadata": {},
   "outputs": [
    {
     "name": "stderr",
     "output_type": "stream",
     "text": [
      "/var/folders/gq/1q03jlln191gy3065wx3q0j80000gn/T/ipykernel_30259/1681256240.py:14: UserWarning: marker is redundantly defined by the 'marker' keyword argument and the fmt string \"*\" (-> marker='*'). The keyword argument will take precedence.\n",
      "  plt.plot(X,Y,\"*\",marker='*',markersize=20.)\n"
     ]
    },
    {
     "data": {
      "image/png": "[encoded data removed]",
      "text/plain": [
       "<Figure size 432x288 with 1 Axes>"
      ]
     },
     "metadata": {
      "needs_background": "light"
     },
     "output_type": "display_data"
    }
   ],
   "source": [
    "X = [-2, 0, 1, 2, 4, 5]\n",
    "Y = [ 0, 1, -1, 3, -2, 7]\n",
    "\n",
    "X = [1.5, 0, 2, 4, 3, 4]\n",
    "Y = [ 4, 3, 0, 1, -1, 1]\n",
    "\n",
    "#X = [-2, -1, 0, 1, 2, 3, 4, 5]\n",
    "#Y = [0.1, 0.2, 0.5, 1, 0.5, 0.2, 0.1, 0.0588]\n",
    "\n",
    "X = [1,5,6,3,0,1]\n",
    "Y = [3,3,2,1.5,2,3]\n",
    "\n",
    "Nb=len(X)-1\n",
    "plt.plot(X,Y,\"*\",marker='*',markersize=20.)\n",
    "\n",
    "t = np.linspace(0,1,Nb+1)\n",
    "Mat0 = np.zeros((8*Nb,8*Nb))\n",
    "b = np.zeros(8*Nb)\n",
    "\n",
    "Mat0[0,0:4] = [1,t[0],t[0]**2,t[0]**3]\n",
    "Mat0[1,4:8] = [1,t[0],t[0]**2,t[0]**3]\n",
    "Mat0[2,0:4] = [0,0,2,6*t[0]]  \n",
    "Mat0[3,4:8] = [0,0,2,6*t[0]]  \n",
    "b[0:4] = [X[0],Y[0],0,0]\n",
    "\n",
    "for i in range(1,Nb):\n",
    "    b[8*i-4:8*i+4] = [X[i],Y[i],X[i],Y[i],0,0,0,0]\n",
    "    Mat0[8*i-4,8*(i-1)+0:8*(i-1)+4] = [1,t[i],t[i]**2,t[i]**3]  \n",
    "    Mat0[8*i-3,8*(i-1)+4:8*(i-1)+8] = [1,t[i],t[i]**2,t[i]**3]\n",
    "    Mat0[8*i-2,8*(i-1)+8:8*(i-1)+12] = [1,t[i],t[i]**2,t[i]**3]  \n",
    "    Mat0[8*i-1,8*(i-1)+12:8*(i-1)+16] = [1,t[i],t[i]**2,t[i]**3]\n",
    "    Mat0[8*i+0,8*(i-1)+0:8*(i-1)+4] = [0,1,2*t[i],3*t[i]**2]    \n",
    "    Mat0[8*i+0,8*(i-1)+8:8*(i-1)+12] = [0,-1,-2*t[i],-3*t[i]**2]  \n",
    "    Mat0[8*i+1,8*(i-1)+4:8*(i-1)+8] = [0,1,2*t[i],3*t[i]**2]    \n",
    "    Mat0[8*i+1,8*(i-1)+12:8*(i-1)+16] = [0,-1,-2*t[i],-3*t[i]**2]  \n",
    "    Mat0[8*i+2,8*(i-1)+0:8*(i-1)+4] = [0,0,2,6*t[i]]   \n",
    "    Mat0[8*i+2,8*(i-1)+8:8*(i-1)+12] = [0,0,-2,-6*t[i]]\n",
    "    Mat0[8*i+3,8*(i-1)+4:8*(i-1)+8] = [0,0,2,6*t[i]]    \n",
    "    Mat0[8*i+3,8*(i-1)+12:8*(i-1)+16] = [0,0,-2,-6*t[i]]  \n",
    "    \n",
    "\n",
    "Mat0[8*Nb-4,8*Nb-8:8*Nb-4] = [1,t[Nb],t[Nb]**2,t[Nb]**3]  \n",
    "Mat0[8*Nb-3,8*Nb-4:8*Nb] = [1,t[Nb],t[Nb]**2,t[Nb]**3]  \n",
    "Mat0[8*Nb-2,8*Nb-8:8*Nb - 4] = [0,0,2,6*t[Nb]]  \n",
    "Mat0[8*Nb-1,8*Nb-4:8*Nb] = [0,0,2,6*t[Nb]]  \n",
    "b[8*Nb-4:8*Nb] = [X[Nb],Y[Nb],0,0]\n",
    "\n",
    "\n",
    "Sol = solve(Mat0,b)\n",
    "\n",
    "for i in range(0,Nb):\n",
    "    def S(x): return [Sol[8*i+0] + Sol[8*i+1]*x + Sol[8*i+2]*x**2 + Sol[8*i+3]*x**3,Sol[8*i+4] + Sol[8*i+5]*x + Sol[8*i+6]*x**2 + Sol[8*i+7]*x**3]\n",
    "    Vx = np.linspace(t[i],t[i+1],100)\n",
    "    Gamma = S(Vx)\n",
    "    plt.plot(Gamma[0],Gamma[1],linewidth=3.5)\n",
    "\n"
   ]
  },
  {
   "cell_type": "code",
   "execution_count": 31,
   "id": "d8ed6183",
   "metadata": {},
   "outputs": [
    {
     "data": {
      "text/plain": [
       "93326215443944152681699238856266700490715968264381621468592963895217599993229915608941463976156518286253697920827223758251185210916864000000000000000000000000"
      ]
     },
     "execution_count": 31,
     "metadata": {},
     "output_type": "execute_result"
    }
   ],
   "source": [
    "np.math.factorial(100)"
   ]
  },
  {
   "cell_type": "code",
   "execution_count": null,
   "id": "9edf6c58",
   "metadata": {},
   "outputs": [],
   "source": [
    "# transpose() =W inverse array"
   ]
  }
 ],
 "metadata": {
  "kernelspec": {
   "display_name": "Python 3 (ipykernel)",
   "language": "python",
   "name": "python3"
  },
  "language_info": {
   "codemirror_mode": {
    "name": "ipython",
    "version": 3
   },
   "file_extension": ".py",
   "mimetype": "text/x-python",
   "name": "python",
   "nbconvert_exporter": "python",
   "pygments_lexer": "ipython3",
   "version": "3.9.15"
  }
 },
 "nbformat": 4,
 "nbformat_minor": 5
}
