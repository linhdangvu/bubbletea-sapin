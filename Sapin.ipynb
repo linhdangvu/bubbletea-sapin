{
 "cells": [
  {
   "cell_type": "code",
   "execution_count": 1,
   "id": "997ff571",
   "metadata": {},
   "outputs": [],
   "source": [
    "import numpy as np\n",
    "import math as ma\n",
    "import matplotlib.pyplot as plt\n",
    "from numpy.linalg import solve # pour travailler des matrix"
   ]
  },
  {
   "cell_type": "code",
   "execution_count": 10,
   "id": "1ee4e2cd",
   "metadata": {},
   "outputs": [
    {
     "data": {
      "image/png": "[encoded data removed]",
      "text/plain": [
       "<Figure size 432x288 with 1 Axes>"
      ]
     },
     "metadata": {
      "needs_background": "light"
     },
     "output_type": "display_data"
    }
   ],
   "source": [
    "x = [0.25, 0.25, 1.25, 0.5, 1, 0.25, 0.6, 0, -0.6, -0.25, -1, -0.5, -1.25, -0.25, -0.25, 0.25]\n",
    "y = [0, 0.5, 0.5, 1, 1, 1.5, 1.5, 2, 1.5 , 1.5, 1, 1, 0.5, 0.5, 0, 0]\n",
    "plt.plot(x,y,\"*r\")\n",
    "#plt.plot(x, y, '-.', color = \"blue\", lw = 2)\n",
    "plt.title(\"\")\n",
    "plt.axis('equal')\n",
    "plt.xlabel(\"\")\n",
    "plt.ylabel(\"\")\n",
    "plt.show()\n",
    "plt.close()"
   ]
  },
  {
   "cell_type": "code",
   "execution_count": 9,
   "id": "c6f9830b",
   "metadata": {},
   "outputs": [
    {
     "name": "stdout",
     "output_type": "stream",
     "text": [
      "[[(0.25, 0), (0.25, 0.5), (0.25, 0.5)], [(0.25, 0.5), (0.25, 1), (0.25, 0.5)], [(0.25, 0.5), (0.25, 1), (0.25, 1)], [(0.25, 1), (0.25, 1.5), (0.25, 1)], [(0.25, 1), (0.25, 1.5), (0.25, 1.5)], [(0.25, 1.5), (0.25, 2), (0.25, 1.5)], [(0.25, 1.5), (0.25, 1.5), (0.25, 2)], [(0.25, 2), (0.25, 1.5), (0.25, 1.5)], [(0.25, 1.5), (0.25, 1), (0.25, 1.5)]]\n"
     ]
    },
    {
     "ename": "NameError",
     "evalue": "name 'toXY' is not defined",
     "output_type": "error",
     "traceback": [
      "\u001b[0;31m---------------------------------------------------------------------------\u001b[0m",
      "\u001b[0;31mNameError\u001b[0m                                 Traceback (most recent call last)",
      "Input \u001b[0;32mIn [9]\u001b[0m, in \u001b[0;36m<cell line: 30>\u001b[0;34m()\u001b[0m\n\u001b[1;32m     26\u001b[0m     [draw2Line(p,showPoint) \u001b[38;5;28;01mfor\u001b[39;00m p \u001b[38;5;129;01min\u001b[39;00m newPoints]\n\u001b[1;32m     29\u001b[0m point \u001b[38;5;241m=\u001b[39m [(\u001b[38;5;241m0.25\u001b[39m, \u001b[38;5;241m0\u001b[39m), (\u001b[38;5;241m0.25\u001b[39m, \u001b[38;5;241m0.5\u001b[39m), (\u001b[38;5;241m0.25\u001b[39m, \u001b[38;5;241m0.5\u001b[39m), (\u001b[38;5;241m0.25\u001b[39m, \u001b[38;5;241m1\u001b[39m), (\u001b[38;5;241m0.25\u001b[39m, \u001b[38;5;241m1\u001b[39m), (\u001b[38;5;241m0.25\u001b[39m, \u001b[38;5;241m1.5\u001b[39m), (\u001b[38;5;241m0.25\u001b[39m, \u001b[38;5;241m1.5\u001b[39m), (\u001b[38;5;241m0.25\u001b[39m, \u001b[38;5;241m2\u001b[39m), (\u001b[38;5;241m0.25\u001b[39m, \u001b[38;5;241m1.5\u001b[39m), (\u001b[38;5;241m0.25\u001b[39m, \u001b[38;5;241m1.5\u001b[39m), (\u001b[38;5;241m0.25\u001b[39m, \u001b[38;5;241m1\u001b[39m)]\n\u001b[0;32m---> 30\u001b[0m \u001b[43mdrawMultipleLine\u001b[49m\u001b[43m(\u001b[49m\u001b[43mpoint\u001b[49m\u001b[43m,\u001b[49m\u001b[38;5;28;43;01mTrue\u001b[39;49;00m\u001b[43m)\u001b[49m\n",
      "Input \u001b[0;32mIn [9]\u001b[0m, in \u001b[0;36mdrawMultipleLine\u001b[0;34m(points, showPoint)\u001b[0m\n\u001b[1;32m     24\u001b[0m newPoints \u001b[38;5;241m=\u001b[39m toLineList(points)\n\u001b[1;32m     25\u001b[0m \u001b[38;5;28mprint\u001b[39m(newPoints)\n\u001b[0;32m---> 26\u001b[0m [draw2Line(p,showPoint) \u001b[38;5;28;01mfor\u001b[39;00m p \u001b[38;5;129;01min\u001b[39;00m newPoints]\n",
      "Input \u001b[0;32mIn [9]\u001b[0m, in \u001b[0;36m<listcomp>\u001b[0;34m(.0)\u001b[0m\n\u001b[1;32m     24\u001b[0m newPoints \u001b[38;5;241m=\u001b[39m toLineList(points)\n\u001b[1;32m     25\u001b[0m \u001b[38;5;28mprint\u001b[39m(newPoints)\n\u001b[0;32m---> 26\u001b[0m [\u001b[43mdraw2Line\u001b[49m\u001b[43m(\u001b[49m\u001b[43mp\u001b[49m\u001b[43m,\u001b[49m\u001b[43mshowPoint\u001b[49m\u001b[43m)\u001b[49m \u001b[38;5;28;01mfor\u001b[39;00m p \u001b[38;5;129;01min\u001b[39;00m newPoints]\n",
      "Input \u001b[0;32mIn [9]\u001b[0m, in \u001b[0;36mdraw2Line\u001b[0;34m(points, showPoint)\u001b[0m\n\u001b[1;32m      7\u001b[0m \u001b[38;5;28;01mdef\u001b[39;00m \u001b[38;5;21mdraw2Line\u001b[39m(points,showPoint):\n\u001b[0;32m----> 8\u001b[0m     X,Y \u001b[38;5;241m=\u001b[39m \u001b[43mtoXY\u001b[49m(points)\n\u001b[1;32m     10\u001b[0m     \u001b[38;5;28;01mif\u001b[39;00m \u001b[38;5;28mlen\u001b[39m(points) \u001b[38;5;241m<\u001b[39m\u001b[38;5;241m=\u001b[39m \u001b[38;5;241m3\u001b[39m:\n\u001b[1;32m     11\u001b[0m         A \u001b[38;5;241m=\u001b[39m np\u001b[38;5;241m.\u001b[39marray([[X[\u001b[38;5;241m0\u001b[39m],\u001b[38;5;241m1\u001b[39m,\u001b[38;5;241m0\u001b[39m,\u001b[38;5;241m0\u001b[39m],[X[\u001b[38;5;241m2\u001b[39m],\u001b[38;5;241m1\u001b[39m,\u001b[38;5;241m0\u001b[39m,\u001b[38;5;241m0\u001b[39m],[\u001b[38;5;241m0\u001b[39m,\u001b[38;5;241m0\u001b[39m,X[\u001b[38;5;241m1\u001b[39m],\u001b[38;5;241m1\u001b[39m],[X[\u001b[38;5;241m2\u001b[39m],\u001b[38;5;241m1\u001b[39m,\u001b[38;5;241m-\u001b[39mX[\u001b[38;5;241m2\u001b[39m],\u001b[38;5;241m-\u001b[39m\u001b[38;5;241m1\u001b[39m]])\n",
      "\u001b[0;31mNameError\u001b[0m: name 'toXY' is not defined"
     ]
    }
   ],
   "source": [
    "def toLineList(points):\n",
    "    newPoints = []\n",
    "    for i in range(len(points)-2):\n",
    "        newPoints.append([points[i],points[i+2],points[i+1]])\n",
    "    return newPoints\n",
    "\n",
    "def draw2Line(points,showPoint):\n",
    "    X,Y = toXY(points)\n",
    "\n",
    "    if len(points) <= 3:\n",
    "        A = np.array([[X[0],1,0,0],[X[2],1,0,0],[0,0,X[1],1],[X[2],1,-X[2],-1]])\n",
    "        b = np.array([Y[0],Y[2],Y[1],0])\n",
    "        S = solve(A, b)\n",
    "        Va = np.linspace(X[0], X[2], 100)\n",
    "        Vb = np.linspace(X[1], X[2], 100)\n",
    "        def A(x): return S[0]*x+S[1]\n",
    "        def B(x): return S[2]*x+S[3]\n",
    "        if showPoint: plt.plot(X, Y, \"+r\")\n",
    "        plt.plot(Va, A(Va), BLACK,linewidth=1)\n",
    "        plt.plot(Vb, B(Vb), BLACK,linewidth=1)\n",
    "        #plt.axis('equal')\n",
    "        \n",
    "def drawMultipleLine(points,showPoint):\n",
    "    newPoints = toLineList(points)\n",
    "    print(newPoints)\n",
    "    [draw2Line(p,showPoint) for p in newPoints]\n",
    "    \n",
    "\n",
    "point = \n",
    "drawMultipleLine(point,True)"
   ]
  },
  {
   "cell_type": "code",
   "execution_count": 7,
   "id": "18b9c84f",
   "metadata": {},
   "outputs": [
    {
     "name": "stdout",
     "output_type": "stream",
     "text": [
      "[(0.25, 0), (0.25, 0.5), (0.25, 0.5), (0.25, 1), (0.25, 1), (0.25, 1.5), (0.25, 1.5), (0.25, 2), (0.25, 1.5), (0.25, 1.5), (0.25, 1), (0.25, 1), (0.25, 0.5), (0.25, 0.5), (0.25, 0), (0.25, 0), (0.25, 0), (0.25, 0.5), (0.25, 0.5), (0.25, 1), (0.25, 1), (0.25, 1.5), (0.25, 1.5), (0.25, 2), (0.25, 1.5), (0.25, 1.5), (0.25, 1), (0.25, 1), (0.25, 0.5), (0.25, 0.5), (0.25, 0), (0.25, 0), (1.25, 0), (1.25, 0.5), (1.25, 0.5), (1.25, 1), (1.25, 1), (1.25, 1.5), (1.25, 1.5), (1.25, 2), (1.25, 1.5), (1.25, 1.5), (1.25, 1), (1.25, 1), (1.25, 0.5), (1.25, 0.5), (1.25, 0), (1.25, 0), (0.5, 0), (0.5, 0.5), (0.5, 0.5), (0.5, 1), (0.5, 1), (0.5, 1.5), (0.5, 1.5), (0.5, 2), (0.5, 1.5), (0.5, 1.5), (0.5, 1), (0.5, 1), (0.5, 0.5), (0.5, 0.5), (0.5, 0), (0.5, 0), (1, 0), (1, 0.5), (1, 0.5), (1, 1), (1, 1), (1, 1.5), (1, 1.5), (1, 2), (1, 1.5), (1, 1.5), (1, 1), (1, 1), (1, 0.5), (1, 0.5), (1, 0), (1, 0), (0.25, 0), (0.25, 0.5), (0.25, 0.5), (0.25, 1), (0.25, 1), (0.25, 1.5), (0.25, 1.5), (0.25, 2), (0.25, 1.5), (0.25, 1.5), (0.25, 1), (0.25, 1), (0.25, 0.5), (0.25, 0.5), (0.25, 0), (0.25, 0), (0.6, 0), (0.6, 0.5), (0.6, 0.5), (0.6, 1), (0.6, 1), (0.6, 1.5), (0.6, 1.5), (0.6, 2), (0.6, 1.5), (0.6, 1.5), (0.6, 1), (0.6, 1), (0.6, 0.5), (0.6, 0.5), (0.6, 0), (0.6, 0), (0, 0), (0, 0.5), (0, 0.5), (0, 1), (0, 1), (0, 1.5), (0, 1.5), (0, 2), (0, 1.5), (0, 1.5), (0, 1), (0, 1), (0, 0.5), (0, 0.5), (0, 0), (0, 0), (-0.6, 0), (-0.6, 0.5), (-0.6, 0.5), (-0.6, 1), (-0.6, 1), (-0.6, 1.5), (-0.6, 1.5), (-0.6, 2), (-0.6, 1.5), (-0.6, 1.5), (-0.6, 1), (-0.6, 1), (-0.6, 0.5), (-0.6, 0.5), (-0.6, 0), (-0.6, 0), (-0.25, 0), (-0.25, 0.5), (-0.25, 0.5), (-0.25, 1), (-0.25, 1), (-0.25, 1.5), (-0.25, 1.5), (-0.25, 2), (-0.25, 1.5), (-0.25, 1.5), (-0.25, 1), (-0.25, 1), (-0.25, 0.5), (-0.25, 0.5), (-0.25, 0), (-0.25, 0), (-1, 0), (-1, 0.5), (-1, 0.5), (-1, 1), (-1, 1), (-1, 1.5), (-1, 1.5), (-1, 2), (-1, 1.5), (-1, 1.5), (-1, 1), (-1, 1), (-1, 0.5), (-1, 0.5), (-1, 0), (-1, 0), (-0.5, 0), (-0.5, 0.5), (-0.5, 0.5), (-0.5, 1), (-0.5, 1), (-0.5, 1.5), (-0.5, 1.5), (-0.5, 2), (-0.5, 1.5), (-0.5, 1.5), (-0.5, 1), (-0.5, 1), (-0.5, 0.5), (-0.5, 0.5), (-0.5, 0), (-0.5, 0), (-1.25, 0), (-1.25, 0.5), (-1.25, 0.5), (-1.25, 1), (-1.25, 1), (-1.25, 1.5), (-1.25, 1.5), (-1.25, 2), (-1.25, 1.5), (-1.25, 1.5), (-1.25, 1), (-1.25, 1), (-1.25, 0.5), (-1.25, 0.5), (-1.25, 0), (-1.25, 0), (-0.25, 0), (-0.25, 0.5), (-0.25, 0.5), (-0.25, 1), (-0.25, 1), (-0.25, 1.5), (-0.25, 1.5), (-0.25, 2), (-0.25, 1.5), (-0.25, 1.5), (-0.25, 1), (-0.25, 1), (-0.25, 0.5), (-0.25, 0.5), (-0.25, 0), (-0.25, 0), (-0.25, 0), (-0.25, 0.5), (-0.25, 0.5), (-0.25, 1), (-0.25, 1), (-0.25, 1.5), (-0.25, 1.5), (-0.25, 2), (-0.25, 1.5), (-0.25, 1.5), (-0.25, 1), (-0.25, 1), (-0.25, 0.5), (-0.25, 0.5), (-0.25, 0), (-0.25, 0), (0.25, 0), (0.25, 0.5), (0.25, 0.5), (0.25, 1), (0.25, 1), (0.25, 1.5), (0.25, 1.5), (0.25, 2), (0.25, 1.5), (0.25, 1.5), (0.25, 1), (0.25, 1), (0.25, 0.5), (0.25, 0.5), (0.25, 0), (0.25, 0)]\n"
     ]
    }
   ],
   "source": [
    "X = [0.25, 0.25, 1.25, 0.5, 1, 0.25, 0.6, 0, -0.6, -0.25, -1, -0.5, -1.25, -0.25, -0.25, 0.25]\n",
    "Y = [0, 0.5, 0.5, 1, 1, 1.5, 1.5, 2, 1.5 , 1.5, 1, 1, 0.5, 0.5, 0, 0]\n",
    "\n",
    "l = [(a,b) for a in X for b in Y]\n",
    "print(l)"
   ]
  },
  {
   "cell_type": "code",
   "execution_count": null,
   "id": "f8940ee0",
   "metadata": {},
   "outputs": [],
   "source": []
  }
 ],
 "metadata": {
  "kernelspec": {
   "display_name": "Python 3 (ipykernel)",
   "language": "python",
   "name": "python3"
  },
  "language_info": {
   "codemirror_mode": {
    "name": "ipython",
    "version": 3
   },
   "file_extension": ".py",
   "mimetype": "text/x-python",
   "name": "python",
   "nbconvert_exporter": "python",
   "pygments_lexer": "ipython3",
   "version": "3.9.15"
  }
 },
 "nbformat": 4,
 "nbformat_minor": 5
}
