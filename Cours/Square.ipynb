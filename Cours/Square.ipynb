{
 "cells": [
  {
   "cell_type": "code",
   "execution_count": 1,
   "id": "ed2b0865",
   "metadata": {},
   "outputs": [],
   "source": [
    "import numpy as np\n",
    "import math as ma\n",
    "import matplotlib.pyplot as plt\n",
    "from numpy.linalg import solve # pour travailler des matrix"
   ]
  },
  {
   "cell_type": "code",
   "execution_count": null,
   "id": "9c2dfece",
   "metadata": {},
   "outputs": [],
   "source": [
    "X = [2,10,2,10]\n",
    "Y=[10,10,11,11]\n",
    "\n",
    "A = np.array([[X[0],1,0,0,0,0,0,0],\n",
    "             [X[1],1,0,0,0,0,0,0],\n",
    "             [0,0,X[0],1,0,0,0,0],\n",
    "             [0,0,X[1],1,0,0,0,0],\n",
    "             [0,0,0,0,X[0],1,0,0],\n",
    "             [0,0,0,0,X[1],1,0,0],\n",
    "             [0,0,0,0,0,0,X[0],1],\n",
    "             [0,0,0,0,0,0,X[1],1]])\n",
    "\n",
    "b = np.array([Y[0],Y[1],Y[2],Y[3],Y[0],Y[3],Y[1],Y[2]])\n",
    "\n",
    "S = solve(A, b)\n",
    "\n",
    "def A(x): return S[0]*x+S[1]\n",
    "def B(x): return S[2]*x+S[3]\n",
    "def C(x): return S[4]*x+S[5]\n",
    "def D(x): return S[6]*x+S[7]\n",
    "\n",
    "Va = np.linspace(X[0], X[1], 100)\n",
    "Vb = np.linspace(X[1], X[2], 100)\n",
    "Vc = np.linspace(X[2], X[3], 100)\n",
    "Vd = np.linspace(X[3], X[0], 100)\n",
    "plt.plot(X, Y, \"+r\")\n",
    "plt.plot(Va, A(Va), \"-b\")\n",
    "plt.plot(Vb, B(Vb), \"-y\")\n",
    "plt.plot(Vc, C(Vc), \"-g\")\n",
    "plt.plot(Vd, D(Vd), \"-p\")\n",
    "\n",
    "print(S)"
   ]
  },
  {
   "cell_type": "code",
   "execution_count": 80,
   "id": "bc9962a8",
   "metadata": {},
   "outputs": [
    {
     "data": {
      "image/png": "[encoded data removed]",
      "text/plain": [
       "<Figure size 432x288 with 1 Axes>"
      ]
     },
     "metadata": {
      "needs_background": "light"
     },
     "output_type": "display_data"
    }
   ],
   "source": [
    "X = [1,1,3]\n",
    "Y = [3,1,2]\n",
    "\n",
    "pointEye = [(1,3),(1,1),(3,2)]\n",
    "def drawEye(points):\n",
    "    if len(points) <= 3:\n",
    "        x0 = points[0][0]\n",
    "        y0 = points[0][1]\n",
    "        x1 = points[1][0]\n",
    "        y1 = points[1][1]\n",
    "        x2 = points[2][0]\n",
    "        y2 = points[2][1]\n",
    "        A = np.array([[x0,1,0,0],[x2,1,0,0],[0,0,x1,1],[x2,1,-x2,-1]])\n",
    "        b = np.array([y0,y2,y1,0])\n",
    "        S = solve(A, b)\n",
    "        Va = np.linspace(x0, x2, 100)\n",
    "        Vb = np.linspace(x1, x2, 100)\n",
    "        def A(x): return S[0]*x+S[1]\n",
    "        def B(x): return S[2]*x+S[3]\n",
    "        plt.plot(X, Y, \"+r\")\n",
    "        plt.plot(Va, A(Va), \"-b\")\n",
    "        plt.plot(Vb, B(Vb), \"-g\")\n",
    "        plt.axis('equal')\n",
    "\n",
    "drawEye(pointEye)"
   ]
  },
  {
   "cell_type": "code",
   "execution_count": null,
   "id": "5f169899",
   "metadata": {},
   "outputs": [],
   "source": [
    "pointBordCup = [(1,3),(3,3),(3.5,2),(3,1)]\n",
    "def drawBordCup(points):\n",
    "    if len(points) <= 4:\n",
    "        x0 = points[0][0]\n",
    "        y0 = points[0][1]\n",
    "        x1 = points[1][0]\n",
    "        y1 = points[1][1]\n",
    "        x2 = points[2][0]\n",
    "        y2 = points[2][1]\n",
    "        x3 = points[3][0]\n",
    "        y3 = points[3][1]\n",
    "        alpha1 = 0\n",
    "        A = np.array([[1,x0,0,0,0,0],\n",
    "                      [1,x1,0,0,0,0],\n",
    "                      [0,1,0,-1,-2*x1,-3*(x1**2)],\n",
    "                      [0,0,1,0,-2*x1,-6*x1],\n",
    "                      [0,0,1,x1,x1**2,x1**3],\n",
    "                      [0,0,1,x2,x2**2,x2**3]])\n",
    "        b = np.array([y0,y1,alpha1,0,y2,y3])\n",
    "        S = solve(A, b)\n",
    "        print(S)\n",
    "        Va = np.linspace(x0, x1, 10)\n",
    "        Vb = np.linspace(x1, x2, 10)\n",
    "        def A(x): return S[0]+S[1]*x\n",
    "        def B(x): return S[2]+S[3]*x+S[4]*x**2+S[5]*x**3\n",
    "       \n",
    "        plt.plot(Va, A(Va), \"*b\")\n",
    "        plt.plot(Vb, B(Vb), \"*g\")\n",
    "        plt.plot([x0,x1,x2], [y0,y1,y2], \"*r\")\n",
    "        plt.axis('equal')\n",
    "\n",
    "drawBordCup(pointBordCup)"
   ]
  },
  {
   "cell_type": "code",
   "execution_count": 43,
   "id": "fc9fdf39",
   "metadata": {},
   "outputs": [],
   "source": [
    "def drawSpline(points, showPoint=True):\n",
    "    Nb=len(points)-1\n",
    "    X = [p[0] for p in points]\n",
    "    Y = [p[1] for p in points]\n",
    "  \n",
    "    if showPoint: plt.plot(X,Y,\"*r\")\n",
    "\n",
    "    t = np.linspace(0,1,Nb+1)\n",
    "    Mat0 = np.zeros((8*Nb,8*Nb))\n",
    "    b = np.zeros(8*Nb)\n",
    "\n",
    "    Mat0[0,0:4] = [1,t[0],t[0]**2,t[0]**3]\n",
    "    Mat0[1,4:8] = [1,t[0],t[0]**2,t[0]**3]\n",
    "    Mat0[2,0:4] = [0,0,2,6*t[0]]  \n",
    "    Mat0[3,4:8] = [0,0,2,6*t[0]]  \n",
    "    b[0:4] = [X[0],Y[0],0,0]\n",
    "\n",
    "    for i in range(1,Nb):\n",
    "        b[8*i-4:8*i+4] = [X[i],Y[i],X[i],Y[i],0,0,0,0]\n",
    "        Mat0[8*i-4,8*(i-1)+0:8*(i-1)+4] = [1,t[i],t[i]**2,t[i]**3]  \n",
    "        Mat0[8*i-3,8*(i-1)+4:8*(i-1)+8] = [1,t[i],t[i]**2,t[i]**3]\n",
    "        Mat0[8*i-2,8*(i-1)+8:8*(i-1)+12] = [1,t[i],t[i]**2,t[i]**3]  \n",
    "        Mat0[8*i-1,8*(i-1)+12:8*(i-1)+16] = [1,t[i],t[i]**2,t[i]**3]\n",
    "        Mat0[8*i+0,8*(i-1)+0:8*(i-1)+4] = [0,1,2*t[i],3*t[i]**2]    \n",
    "        Mat0[8*i+0,8*(i-1)+8:8*(i-1)+12] = [0,-1,-2*t[i],-3*t[i]**2]  \n",
    "        Mat0[8*i+1,8*(i-1)+4:8*(i-1)+8] = [0,1,2*t[i],3*t[i]**2]    \n",
    "        Mat0[8*i+1,8*(i-1)+12:8*(i-1)+16] = [0,-1,-2*t[i],-3*t[i]**2]  \n",
    "        Mat0[8*i+2,8*(i-1)+0:8*(i-1)+4] = [0,0,2,6*t[i]]   \n",
    "        Mat0[8*i+2,8*(i-1)+8:8*(i-1)+12] = [0,0,-2,-6*t[i]]\n",
    "        Mat0[8*i+3,8*(i-1)+4:8*(i-1)+8] = [0,0,2,6*t[i]]    \n",
    "        Mat0[8*i+3,8*(i-1)+12:8*(i-1)+16] = [0,0,-2,-6*t[i]]  \n",
    "\n",
    "\n",
    "    Mat0[8*Nb-4,8*Nb-8:8*Nb-4] = [1,t[Nb],t[Nb]**2,t[Nb]**3]  \n",
    "    Mat0[8*Nb-3,8*Nb-4:8*Nb] = [1,t[Nb],t[Nb]**2,t[Nb]**3]  \n",
    "    Mat0[8*Nb-2,8*Nb-8:8*Nb - 4] = [0,0,2,6*t[Nb]]  \n",
    "    Mat0[8*Nb-1,8*Nb-4:8*Nb] = [0,0,2,6*t[Nb]]  \n",
    "    b[8*Nb-4:8*Nb] = [X[Nb],Y[Nb],0,0]\n",
    "    print(b)\n",
    "\n",
    "\n",
    "    Sol = solve(Mat0,b)\n",
    "\n",
    "    for i in range(0,Nb):\n",
    "        def S(x): return [Sol[8*i+0] + Sol[8*i+1]*x + Sol[8*i+2]*x**2 + Sol[8*i+3]*x**3,Sol[8*i+4] + Sol[8*i+5]*x + Sol[8*i+6]*x**2 + Sol[8*i+7]*x**3]\n",
    "        Vx = np.linspace(t[i],t[i+1],100)\n",
    "        Gamma = S(Vx)\n",
    "        plt.plot(Gamma[0],Gamma[1],linewidth=1)\n",
    "        #plt.fill(Gamma[0],Gamma[1],\"b\")\n",
    "\n"
   ]
  },
  {
   "cell_type": "code",
   "execution_count": 44,
   "id": "dc47f68c",
   "metadata": {},
   "outputs": [
    {
     "name": "stdout",
     "output_type": "stream",
     "text": [
      "[0.5 3.5 0.  0.  0.  2.5 0.  2.5 0.  0.  0.  0.  1.  1.  1.  1.  0.  0.\n",
      " 0.  0.  2.  2.  2.  2.  0.  0.  0.  0.  3.  1.  3.  1.  0.  0.  0.  0.\n",
      " 4.  2.5 4.  2.5 0.  0.  0.  0.  3.5 3.5 0.  0. ]\n"
     ]
    },
    {
     "data": {
      "image/png": "[encoded data removed]",
      "text/plain": [
       "<Figure size 432x288 with 1 Axes>"
      ]
     },
     "metadata": {
      "needs_background": "light"
     },
     "output_type": "display_data"
    }
   ],
   "source": [
    "X = [5,1,0,3,6,5]\n",
    "Y = [1,1,2,2.5,2,1]\n",
    "\n",
    "pointsBordCup = [(5,1),(1,1),(0,2),(3,2.5),(6,2),(5,1)]\n",
    "pointLineBordCup = [(2, 10), (10,10)]\n",
    "pointsBordCup = [(10,10),(2,10),(1,10.5),(2,11),(6,11.2),(10,11),(11,10.5),(10,10)]\n",
    "pointsMouth = [(0.5,3.5),(0,2.5),(1,1),(2,2),(3,1),(4,2.5),(3.5,3.5)]\n",
    "\n",
    "drawSpline(pointsMouth)"
   ]
  },
  {
   "cell_type": "code",
   "execution_count": 89,
   "id": "bbca52b5",
   "metadata": {},
   "outputs": [
    {
     "name": "stdout",
     "output_type": "stream",
     "text": [
      "[-0.75  2.5  -0.75 12.25 -3.5   0.25]\n"
     ]
    },
    {
     "data": {
      "image/png": "[encoded data removed]",
      "text/plain": [
       "<Figure size 432x288 with 1 Axes>"
      ]
     },
     "metadata": {
      "needs_background": "light"
     },
     "output_type": "display_data"
    }
   ],
   "source": [
    "X = [1,3]\n",
    "Y=[1,1]\n",
    "alpha = 1\n",
    "def drawParabol(points, alpha):\n",
    "    # Créer des points pour dessinner\n",
    "    X = [t[0] for t in points]\n",
    "    Y = [t[1] for t in points]\n",
    "    plt.plot(X, Y, \"+r\")\n",
    "    N = len(points)\n",
    "    if N <= 3: # for only 5 points for now\n",
    "        A = np.array([[1,X[0],X[0]**2],\n",
    "                      [1,X[1],X[1]**2],\n",
    "                      [0,0,2*X[0]]])\n",
    "\n",
    "        b = np.array([Y[0],Y[1],alpha])\n",
    "        S = solve(A, b)\n",
    "        def A(x): return S[0]+S[1]*x+S[2]*x**2\n",
    "        Va = np.linspace(X[0], X[1], 100)\n",
    "        plt.plot(Va, A(Va), \"-b\")\n",
    "\n",
    "print(S)\n",
    "p = [(5,7.5),(6,7.5)]\n",
    "p2 = [(6,7.5),(7,7.5)]\n",
    "p3 = [(5,1),(7,1)]\n",
    "p = [(5,7.5),(6,7.5),(7,7.5)]\n",
    "\n",
    "drawParabol(p,5*2)\n",
    "drawParabol(p2,6*2)\n",
    "#drawParabol(p3,5)"
   ]
  },
  {
   "cell_type": "code",
   "execution_count": 53,
   "id": "a6024c37",
   "metadata": {},
   "outputs": [
    {
     "data": {
      "image/png": "[encoded data removed]",
      "text/plain": [
       "<Figure size 432x288 with 1 Axes>"
      ]
     },
     "metadata": {
      "needs_background": "light"
     },
     "output_type": "display_data"
    }
   ],
   "source": [
    "def drawParabol(x, S, N): return sum(S[t]*(x**t) for t in range(N))\n",
    "def createListX(X, N): return [1*[X[d]**t for t in range(N)] for d in range(N)]\n",
    "def createListY(Y, N): return [Y[t] for t in range(N)]\n",
    "\n",
    "def drawMultiplePoint(points,showPoint=True, showBorder=True):\n",
    "    # Créer des points pour dessinner\n",
    "    X = [t[0] for t in points]\n",
    "    Y = [t[1] for t in points]\n",
    "    N = len(X)\n",
    "    if showPoint: plt.plot(X,Y, \"*r\")\n",
    "\n",
    "    # Créer des listes pour calculer matrix\n",
    "    A = np.array(createListX(X,N))\n",
    "    b = np.array(createListY(Y,N))\n",
    "    S = solve(A,b)\n",
    "   \n",
    "    # Position de X pour dessiner avec nombre de points\n",
    "    Vx = np.linspace(min(X),max(X), 100)\n",
    "   \n",
    "    # Position de Y pour dessiner par la définition drawParabol\n",
    "    Vy = [drawParabol(t,S,N) for t in Vx]\n",
    "    if showBorder: plt.plot(Vx,Vy,linewidth=1)\n",
    "    #plt.fill(Vx, Vy)\n",
    "\n",
    "p = [(1,1),(3,1),(5,1)]\n",
    "drawMultiplePoint(p)"
   ]
  },
  {
   "cell_type": "code",
   "execution_count": 68,
   "id": "275600b2",
   "metadata": {},
   "outputs": [
    {
     "name": "stdout",
     "output_type": "stream",
     "text": [
      "[-0.75  2.5  -0.75 12.25 -3.5   0.25]\n"
     ]
    },
    {
     "data": {
      "text/plain": [
       "[<matplotlib.lines.Line2D at 0x10ec07400>]"
      ]
     },
     "execution_count": 68,
     "metadata": {},
     "output_type": "execute_result"
    },
    {
     "data": {
      "image/png": "[encoded data removed]",
      "text/plain": [
       "<Figure size 432x288 with 1 Axes>"
      ]
     },
     "metadata": {
      "needs_background": "light"
     },
     "output_type": "display_data"
    }
   ],
   "source": [
    "points = [(1,1),(3,1),(5,1)]\n",
    "alpha0 = 1\n",
    "alpha1 = -1\n",
    "\n",
    "X = [t[0] for t in points]\n",
    "Y = [t[1] for t in points]\n",
    "plt.plot(X, Y, \"+r\")\n",
    "A = np.array([[1,X[0],X[0]**2,0,0,0],\n",
    "              [0,0,0,1,X[2],X[2]**2],\n",
    "              [0,1,2*X[1],0,-1,-2*X[1]],\n",
    "              [1,X[1],X[1]**2,0,0,0],\n",
    "              [0,1,2*X[0],0,0,0],\n",
    "              [0,0,0,0,1,2*X[2]]])\n",
    "\n",
    "\n",
    "\n",
    "b = np.array([Y[0],Y[2],0,0,alpha0,alpha1])\n",
    "\n",
    "S = solve(A, b)\n",
    "\n",
    "print(S)\n",
    "\n",
    "def A(x): return S[0]+S[1]*x+S[2]*x**2\n",
    "def B(x): return S[3]+S[4]*x+S[5]*x**2\n",
    "\n",
    "Va = np.linspace(X[0], X[1], 100)\n",
    "Vb = np.linspace(X[1], X[2], 100)\n",
    "\n",
    "plt.plot(Va, A(Va), \"-b\")\n",
    "plt.plot(Vb, A(Vb), \"-g\")"
   ]
  },
  {
   "cell_type": "code",
   "execution_count": 100,
   "id": "2c78ca71",
   "metadata": {},
   "outputs": [
    {
     "name": "stdout",
     "output_type": "stream",
     "text": [
      "[[(1, 3), (1, 1), (3, 2)], [(3, 2), (0, 2), (1, 1)], [(1, 1), (1, 3), (0, 2)]]\n"
     ]
    },
    {
     "data": {
      "image/png": "[encoded data removed]",
      "text/plain": [
       "<Figure size 432x288 with 1 Axes>"
      ]
     },
     "metadata": {
      "needs_background": "light"
     },
     "output_type": "display_data"
    }
   ],
   "source": [
    "p = [(1,3),(3,2),(1,1),(0,2),(1,3)] # A B X\n",
    "\n",
    "def toLineList(points):\n",
    "    newPoints = []\n",
    "    for i in range(len(points)-2):\n",
    "        newPoints.append([points[i],points[i+2],points[i+1]])\n",
    "    return newPoints\n",
    "\n",
    "def draw2Line(points):\n",
    "    X = [t[0] for t in points]\n",
    "    Y = [t[1] for t in points]\n",
    "    \n",
    "    if len(points) <= 3:\n",
    "        A = np.array([[X[0],1,0,0],[X[2],1,0,0],[0,0,X[1],1],[X[2],1,-X[2],-1]])\n",
    "        b = np.array([Y[0],Y[2],Y[1],0])\n",
    "        S = solve(A, b)\n",
    "        Va = np.linspace(X[0], X[2], 100)\n",
    "        Vb = np.linspace(X[1], X[2], 100)\n",
    "        def A(x): return S[0]*x+S[1]\n",
    "        def B(x): return S[2]*x+S[3]\n",
    "        #plt.plot(X, Y, \"+r\")\n",
    "        plt.plot(Va, A(Va), \"-b\")\n",
    "        plt.plot(Vb, B(Vb), \"-g\")\n",
    "        plt.fill(Va, A(Va),\"r\")\n",
    "        plt.axis('equal')\n",
    "        \n",
    "def drawMultipleLine(points):\n",
    "    newPoints = toLineList(points)\n",
    "    print(newPoints)\n",
    "    [draw2Line(p) for p in newPoints]\n",
    "    \n",
    "drawMultipleLine(p)\n",
    "    "
   ]
  },
  {
   "cell_type": "code",
   "execution_count": 95,
   "id": "8aed601d",
   "metadata": {},
   "outputs": [
    {
     "name": "stdout",
     "output_type": "stream",
     "text": [
      "[[(1, 3), (3, 2), (1, 1)]]\n"
     ]
    }
   ],
   "source": [
    "p = [(1,4),(1,1),(3,1),(3,4)]\n",
    "p  = [(1,3),(1,1),(3,2)]\n",
    "\n",
    "def toLineList(points):\n",
    "    newPoints = []\n",
    "    for i in range(len(points)-2):\n",
    "        newPoints.append([points[i],points[i+2],points[i+1]])\n",
    "    return newPoints\n",
    "print(toLineList(p))"
   ]
  },
  {
   "cell_type": "markdown",
   "id": "ec90d591",
   "metadata": {},
   "source": [
    "<p align=\"center\">\n",
    "[logo](https://www.raspberrypi.org/app/uploads/2018/03/RPi-Logo-Reg-SCREEN-199x250.png \"Raspberry pi\")\n",
    "</p>\n",
    "\n",
    "![logo](https://www.raspberrypi.org/app/uploads/2018/03/RPi-Logo-Reg-SCREEN-199x250.png \"Raspberry pi\")"
   ]
  },
  {
   "cell_type": "code",
   "execution_count": null,
   "id": "11e4ae27",
   "metadata": {},
   "outputs": [],
   "source": []
  }
 ],
 "metadata": {
  "kernelspec": {
   "display_name": "Python 3 (ipykernel)",
   "language": "python",
   "name": "python3"
  },
  "language_info": {
   "codemirror_mode": {
    "name": "ipython",
    "version": 3
   },
   "file_extension": ".py",
   "mimetype": "text/x-python",
   "name": "python",
   "nbconvert_exporter": "python",
   "pygments_lexer": "ipython3",
   "version": "3.9.15"
  }
 },
 "nbformat": 4,
 "nbformat_minor": 5
}
