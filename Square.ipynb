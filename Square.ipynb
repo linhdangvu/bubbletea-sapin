{
 "cells": [
  {
   "cell_type": "code",
   "execution_count": 1,
   "id": "d889d243",
   "metadata": {},
   "outputs": [],
   "source": [
    "import numpy as np\n",
    "import math as ma\n",
    "import matplotlib.pyplot as plt\n",
    "from numpy.linalg import solve # pour travailler des matrix"
   ]
  },
  {
   "cell_type": "code",
   "execution_count": null,
   "id": "e163fba4",
   "metadata": {},
   "outputs": [],
   "source": [
    "X = [2,10,2,10]\n",
    "Y=[10,10,11,11]\n",
    "\n",
    "A = np.array([[X[0],1,0,0,0,0,0,0],\n",
    "             [X[1],1,0,0,0,0,0,0],\n",
    "             [0,0,X[0],1,0,0,0,0],\n",
    "             [0,0,X[1],1,0,0,0,0],\n",
    "             [0,0,0,0,X[0],1,0,0],\n",
    "             [0,0,0,0,X[1],1,0,0],\n",
    "             [0,0,0,0,0,0,X[0],1],\n",
    "             [0,0,0,0,0,0,X[1],1]])\n",
    "\n",
    "b = np.array([Y[0],Y[1],Y[2],Y[3],Y[0],Y[3],Y[1],Y[2]])\n",
    "\n",
    "S = solve(A, b)\n",
    "\n",
    "def A(x): return S[0]*x+S[1]\n",
    "def B(x): return S[2]*x+S[3]\n",
    "def C(x): return S[4]*x+S[5]\n",
    "def D(x): return S[6]*x+S[7]\n",
    "\n",
    "Va = np.linspace(X[0], X[1], 100)\n",
    "Vb = np.linspace(X[1], X[2], 100)\n",
    "Vc = np.linspace(X[2], X[3], 100)\n",
    "Vd = np.linspace(X[3], X[0], 100)\n",
    "plt.plot(X, Y, \"+r\")\n",
    "plt.plot(Va, A(Va), \"-b\")\n",
    "plt.plot(Vb, B(Vb), \"-y\")\n",
    "plt.plot(Vc, C(Vc), \"-g\")\n",
    "plt.plot(Vd, D(Vd), \"-p\")\n",
    "\n",
    "print(S)"
   ]
  },
  {
   "cell_type": "code",
   "execution_count": 2,
   "id": "397a2236",
   "metadata": {},
   "outputs": [
    {
     "data": {
      "image/png": "[encoded data removed]",
      "text/plain": [
       "<Figure size 432x288 with 1 Axes>"
      ]
     },
     "metadata": {
      "needs_background": "light"
     },
     "output_type": "display_data"
    }
   ],
   "source": [
    "X = [1,1,3]\n",
    "Y = [3,1,2]\n",
    "\n",
    "pointEye = [(1,3),(1,1),(3,2)]\n",
    "def drawEye(points):\n",
    "    if len(points) <= 3:\n",
    "        x0 = points[0][0]\n",
    "        y0 = points[0][1]\n",
    "        x1 = points[1][0]\n",
    "        y1 = points[1][1]\n",
    "        x2 = points[2][0]\n",
    "        y2 = points[2][1]\n",
    "        A = np.array([[x0,1,0,0],[x2,1,0,0],[0,0,x1,1],[x2,1,-x2,-1]])\n",
    "        b = np.array([y0,y2,y1,0])\n",
    "        S = solve(A, b)\n",
    "        Va = np.linspace(x0, x2, 100)\n",
    "        Vb = np.linspace(x1, x2, 100)\n",
    "        def A(x): return S[0]*x+S[1]\n",
    "        def B(x): return S[2]*x+S[3]\n",
    "        plt.plot(X, Y, \"+r\")\n",
    "        plt.plot(Va, A(Va), \"-b\")\n",
    "        plt.plot(Vb, B(Vb), \"-g\")\n",
    "        plt.axis('equal')\n",
    "\n",
    "drawEye(pointEye)"
   ]
  },
  {
   "cell_type": "code",
   "execution_count": 28,
   "id": "58376d19",
   "metadata": {},
   "outputs": [
    {
     "name": "stdout",
     "output_type": "stream",
     "text": [
      "[ 3.00000000e+00  1.48029737e-16  2.44444444e+00 -1.22222222e+00\n",
      "  2.77777778e-01]\n"
     ]
    },
    {
     "data": {
      "image/png": "[encoded data removed]",
      "text/plain": [
       "<Figure size 432x288 with 1 Axes>"
      ]
     },
     "metadata": {
      "needs_background": "light"
     },
     "output_type": "display_data"
    }
   ],
   "source": [
    "pointBordCup = [(1,3),(3,3),(4,2),(3,1)]\n",
    "def drawBordCup(points):\n",
    "    if len(points) <= 4:\n",
    "        x0 = points[0][0]\n",
    "        y0 = points[0][1]\n",
    "        x1 = points[1][0]\n",
    "        y1 = points[1][1]\n",
    "        x2 = points[2][0]\n",
    "        y2 = points[2][1]\n",
    "        x3 = points[3][0]\n",
    "        y3 = points[3][1]\n",
    "        alpha1 = 2\n",
    "        A = np.array([[1,x0,0,0,0],\n",
    "                      [1,x1,0,0,0],\n",
    "                      [0,x1,0,-x1,-2*x1],\n",
    "                      [0,0,1,x2,x2**2],\n",
    "                      [0,0,0,1,2*x2]])\n",
    "        b = np.array([y0,y1,alpha1,y2,y3])\n",
    "        S = solve(A, b)\n",
    "        print(S)\n",
    "        Va = np.linspace(x0, x1, 10)\n",
    "        Vb = np.linspace(x1, x3, 10)\n",
    "        def A(x): return S[0]+S[1]*x\n",
    "        def B(x): return S[2]+S[3]*x+S[4]*x**2\n",
    "        #plt.plot(X, Y, \"+r\")\n",
    "        plt.plot(Va, A(Va), \"*b\")\n",
    "        plt.plot(Vb, B(Vb), \"*g\")\n",
    "        plt.axis('equal')\n",
    "\n",
    "drawBordCup(pointBordCup)"
   ]
  },
  {
   "cell_type": "code",
   "execution_count": 14,
   "id": "edb70c50",
   "metadata": {},
   "outputs": [
    {
     "name": "stdout",
     "output_type": "stream",
     "text": [
      "[[0. 0. 0. 0. 0. 0. 0. 0. 0. 0.]\n",
      " [0. 0. 0. 0. 0. 0. 0. 0. 0. 0.]\n",
      " [0. 0. 0. 0. 0. 0. 0. 0. 0. 0.]\n",
      " [0. 0. 0. 0. 0. 0. 0. 0. 0. 0.]\n",
      " [0. 0. 0. 0. 0. 0. 0. 0. 0. 0.]\n",
      " [0. 0. 0. 0. 0. 0. 0. 0. 0. 0.]\n",
      " [0. 0. 0. 0. 0. 0. 0. 0. 0. 0.]\n",
      " [0. 0. 0. 0. 0. 0. 0. 0. 0. 0.]\n",
      " [0. 0. 0. 0. 0. 0. 0. 0. 0. 0.]\n",
      " [0. 0. 0. 0. 0. 0. 0. 0. 0. 0.]]\n"
     ]
    },
    {
     "ename": "ValueError",
     "evalue": "could not broadcast input array from shape (2,) into shape (6,)",
     "output_type": "error",
     "traceback": [
      "\u001b[0;31m---------------------------------------------------------------------------\u001b[0m",
      "\u001b[0;31mValueError\u001b[0m                                Traceback (most recent call last)",
      "Input \u001b[0;32mIn [14]\u001b[0m, in \u001b[0;36m<cell line: 3>\u001b[0;34m()\u001b[0m\n\u001b[1;32m      1\u001b[0m A \u001b[38;5;241m=\u001b[39m np\u001b[38;5;241m.\u001b[39marray(np\u001b[38;5;241m.\u001b[39mzeros((\u001b[38;5;241m10\u001b[39m,\u001b[38;5;241m10\u001b[39m)))\n\u001b[1;32m      2\u001b[0m \u001b[38;5;28mprint\u001b[39m(A)\n\u001b[0;32m----> 3\u001b[0m A[\u001b[38;5;241m0\u001b[39m,\u001b[38;5;241m2\u001b[39m:\u001b[38;5;241m8\u001b[39m] \u001b[38;5;241m=\u001b[39m [\u001b[38;5;241m1\u001b[39m,\u001b[38;5;241m2\u001b[39m]\n",
      "\u001b[0;31mValueError\u001b[0m: could not broadcast input array from shape (2,) into shape (6,)"
     ]
    }
   ],
   "source": [
    "A = np.array(np.zeros((10,10)))\n",
    "print(A)\n",
    "mat0[0,2:8] = [1,2]"
   ]
  },
  {
   "cell_type": "code",
   "execution_count": null,
   "id": "f6671ea0",
   "metadata": {},
   "outputs": [],
   "source": []
  },
  {
   "cell_type": "code",
   "execution_count": null,
   "id": "0314c390",
   "metadata": {},
   "outputs": [],
   "source": []
  }
 ],
 "metadata": {
  "kernelspec": {
   "display_name": "Python 3 (ipykernel)",
   "language": "python",
   "name": "python3"
  },
  "language_info": {
   "codemirror_mode": {
    "name": "ipython",
    "version": 3
   },
   "file_extension": ".py",
   "mimetype": "text/x-python",
   "name": "python",
   "nbconvert_exporter": "python",
   "pygments_lexer": "ipython3",
   "version": "3.9.15"
  }
 },
 "nbformat": 4,
 "nbformat_minor": 5
}
