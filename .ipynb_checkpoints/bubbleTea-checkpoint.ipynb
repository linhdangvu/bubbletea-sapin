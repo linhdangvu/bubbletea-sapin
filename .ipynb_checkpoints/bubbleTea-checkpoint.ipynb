{
 "cells": [
  {
   "cell_type": "markdown",
   "metadata": {},
   "source": [
    "## Dessin bubble tea en matplotlib"
   ]
  },
  {
   "cell_type": "code",
   "execution_count": 1,
   "metadata": {},
   "outputs": [],
   "source": [
    "import numpy as np\n",
    "import math as ma\n",
    "import matplotlib.pyplot as plt\n",
    "from numpy.linalg import solve # pour travailler des matrix"
   ]
  },
  {
   "cell_type": "markdown",
   "metadata": {},
   "source": [
    "Fonction général pour dessinner\n",
    "- Pour dessiner des lignes qui passe par n points: $$f(x) = a_0x^0 + a_1x^1 + a_2x^2 + ... a_nx^n$$\n",
    "- Pour dessiner des lignes: $$f(x) = a_0 + a_1x$$\n",
    "- Pour dessiner des parabols: $$f(x) = a_0 + a_1x + a_2x^2$$\n",
    "- Pour dessiner des cercles: $$ f(x)= \\begin{cases}\n",
    "                                R \\to R^2\\\\\n",
    "                                R \\to (R*cos(x), R*sin(x))\n",
    "                                \\end{cases} $$\n",
    "- Pour dessiner des eclispes: $$ f(x)= \\begin{cases}\n",
    "                                R \\to R_1,R_2\\\\\n",
    "                                R \\to (R_1*cos(x), R_2*sin(x))\n",
    "                                \\end{cases} $$ "
   ]
  },
  {
   "cell_type": "code",
   "execution_count": 2,
   "metadata": {},
   "outputs": [],
   "source": [
    "# Définir quelques couleurs pour colorer\n",
    "LIGHT_BROWN = \"#f4cfb2\"\n",
    "LIGHT_BLUE = \"#e2efff\"\n",
    "BROWN = \"#c76b3a\"\n",
    "MOYEN_BROWN = \"#d39063\"\n",
    "BLACK = \"#1d232b\"\n",
    "PINK = \"#faa0ba\"\n",
    "WHITE = \"#ffffff\"\n",
    "ORANGE = \"#ffc198\""
   ]
  },
  {
   "cell_type": "code",
   "execution_count": 3,
   "metadata": {},
   "outputs": [],
   "source": [
    "# Cette fonction converte la liste points -> la liste de X, la liste de Y\n",
    "def toXY(points):\n",
    "    return [t[0] for t in points],[t[1] for t in points]"
   ]
  },
  {
   "cell_type": "markdown",
   "metadata": {},
   "source": [
    "#### Explication \n",
    "La fonction `drawMultiplePoint(points,showPoint, showBorder, color)`represente\n",
    "$$f(x) = a_0x^0 + a_1x^1 + a_2x^2 + ... a_nx^n$$\n",
    "\n",
    "#### Explication du code\n",
    "- `points` represente des points pour dessiner\n",
    "- `showPoint` affiche des points si vrai\n",
    "- `showBorder` affiche des frontière si vrai\n",
    "- `color` represente la couleur pour colorer"
   ]
  },
  {
   "cell_type": "code",
   "execution_count": 4,
   "metadata": {},
   "outputs": [],
   "source": [
    "def drawMultiplePoint(points,showPoint, showBorder, color=LIGHT_BROWN):\n",
    "    # Créer des points pour dessinner\n",
    "    X,Y = toXY(points)\n",
    "    N = len(X)\n",
    "    if showPoint: plt.plot(X,Y, \"*r\")\n",
    "        \n",
    "    def F(x, S, N): return sum(S[t]*(x**t) for t in range(N))\n",
    "    def createListX(X, N): return [1*[X[d]**t for t in range(N)] for d in range(N)]\n",
    "    def createListY(Y, N): return [Y[t] for t in range(N)]\n",
    "\n",
    "    # Créer des listes pour calculer matrix\n",
    "    A = np.array(createListX(X,N))\n",
    "    b = np.array(createListY(Y,N))\n",
    "    S = solve(A,b)\n",
    "   \n",
    "    # Position de X pour dessiner avec nombre de points\n",
    "    Vx = np.linspace(min(X),max(X), 100)\n",
    "   \n",
    "    # Position de Y pour dessiner par la définition F\n",
    "    Vy = [F(t,S,N) for t in Vx]\n",
    "    if showBorder: plt.plot(Vx,Vy,BLACK,linewidth=1)\n",
    "    plt.fill(Vx, Vy, color)"
   ]
  },
  {
   "cell_type": "markdown",
   "metadata": {},
   "source": [
    "#### Explication \n",
    "La fonction `drawCircle(pos,showBorder,start,end,R1,R2,color)` represente\n",
    "$$ f(x)= \\begin{cases}\n",
    "R \\to R_1,R_2\\\\\n",
    "R \\to (R_1*cos(x)+pos, R_2*sin(x)+pos)\n",
    "\\end{cases} $$ \n",
    "\n",
    "- Si on veut dessiner un cercle -> $R_1=R_2$\n",
    "- Si on veut dessiner un eclipse -> $R_1 \\neq R_2$\n",
    "- Si on veut augmenter la taille de cercle/eclipse -> on changer $R_1$ et $R_2$ \n",
    "#### Explication du code\n",
    "- `pos` represente la cercle central -> si on changer la position -> on change pos\n",
    "- `showBorder` affiche des frontière si vrai\n",
    "- `start` et `end`representent la point de départ et la point de destination\n",
    "- `R1` et `R2` representent la rayon du cercle/eclispe\n",
    "- `color` represente la couleur pour colorer\n"
   ]
  },
  {
   "cell_type": "code",
   "execution_count": 5,
   "metadata": {},
   "outputs": [],
   "source": [
    "def drawCircle(pos,showBorder,start = 0, end = 2*np.pi,R1 = 0.5,R2=0.5, color=BROWN):\n",
    "    T = np.linspace(start,end,100)\n",
    "    Vx=R1*np.cos(T)+pos[0]\n",
    "    Vy=R2*np.sin(T)+pos[1]\n",
    "    if showBorder: plt.plot(Vx,Vy,BLACK,linewidth=1)\n",
    "    plt.fill(Vx,Vy,color)"
   ]
  },
  {
   "cell_type": "markdown",
   "metadata": {},
   "source": [
    "#### Explication \n",
    "La fonction `drawParabol(points, showPoint)` represente\n",
    "$$f(x) = a_0 + a_1x + a_2x^2$$\n",
    "\n",
    "#### Explication du code\n",
    "- `points` represente des points pour dessiner\n",
    "- `showPoint` affiche des points si vrai"
   ]
  },
  {
   "cell_type": "code",
   "execution_count": 6,
   "metadata": {},
   "outputs": [],
   "source": [
    "def drawParabol(points, showPoint):\n",
    "    # Créer des points pour dessinner\n",
    "    X,Y = toXY(points)\n",
    "    if showPoint: plt.plot(X, Y, \"+r\")\n",
    "    N = len(points)\n",
    "    if N <= 3: # for only 5 points for now\n",
    "        A = np.array([[1,X[0],X[0]**2],\n",
    "                      [1,X[1],X[1]**2],\n",
    "                      [0,0,2*X[0]]])\n",
    "\n",
    "        b = np.array([Y[0],Y[1],X[0]*2])\n",
    "        S = solve(A, b)\n",
    "        def A(x): return S[0]+S[1]*x+S[2]*x**2\n",
    "        Va = np.linspace(X[0], X[1], 100)\n",
    "        plt.plot(Va, A(Va), BLACK,linewidth=1)"
   ]
  },
  {
   "cell_type": "markdown",
   "metadata": {},
   "source": [
    "#### Explication \n",
    "La fonction `toSmallList(fullList)` retourne la nouvelle liste qui divise à petits listes de longueur de 2 <br>\n",
    "Example: $[A,B,C,D] \\to [[A,B],[B,C],[C,D]]$\n",
    "\n",
    "#### Explication du code\n",
    "- `fullList` represente des points pour diviser"
   ]
  },
  {
   "cell_type": "code",
   "execution_count": 7,
   "metadata": {},
   "outputs": [],
   "source": [
    "# Cette fonction pour divise grande liste à petit list avec longueur = 2\n",
    "def toSmallList(fullList):\n",
    "    newList = []\n",
    "    for i in range(len(fullList)-1):\n",
    "        newList.append([fullList[i],fullList[i+1]])\n",
    "    return newList    "
   ]
  },
  {
   "cell_type": "markdown",
   "metadata": {},
   "source": [
    "#### Explication \n",
    "La fonction `drawMouth(points, showPoint)` utilise la fonction `toSmallList`et `drawParabol`pour dessiner la bouche.<br>\n",
    "On utilise 2 parabols pour dessiner\n",
    "\n",
    "#### Explication du code\n",
    "- `points` represente des points pour dessiner la bouche\n",
    "- `showPoint` affiche des points si vrai"
   ]
  },
  {
   "cell_type": "code",
   "execution_count": 8,
   "metadata": {},
   "outputs": [],
   "source": [
    "# Cette fonction affiche la liste des parabols pour dessiner la bouche\n",
    "def drawMouth(points, showPoint):\n",
    "    divisePoints = toSmallList(points)\n",
    "    #print(divisePoints)\n",
    "    [drawParabol(dp,showPoint) for dp in divisePoints]"
   ]
  },
  {
   "cell_type": "markdown",
   "metadata": {},
   "source": [
    "#### Explication \n",
    "La fonction `drawBordCup(pointLine,showPoint, showBorder)` utilise la fonction `drawMultiplePoint` et `drawCircle`pour dessiner la bord de tasse\n",
    "\n",
    "#### Explication du code\n",
    "- `pointLine` represente des points pour dessiner des lignes\n",
    "- `showPoint` affiche des points si vrai\n",
    "- `showBorder` affiche des frontière si vrai"
   ]
  },
  {
   "cell_type": "code",
   "execution_count": 9,
   "metadata": {},
   "outputs": [],
   "source": [
    "def drawBordCup(pointLine,showPoint, showBorder): \n",
    "    if len(pointLine) <= 2:\n",
    "        # Distance 2 lines = 1\n",
    "        pointX1 = pointLine[0][0]\n",
    "        pointX2 = pointLine[1][0]\n",
    "        pointY1 = pointLine[0][1]\n",
    "        pointY2 = pointLine[0][1]+1\n",
    "        moyenY = (pointLine[0][1]+pointY2)/2\n",
    "        pointLine2 = [(pointX1, pointY2), (pointX2,pointY2)]\n",
    "        \n",
    "        # dessiner\n",
    "        drawMultiplePoint(pointLine,showPoint, showBorder)\n",
    "        drawMultiplePoint(pointLine2,showPoint, showBorder)\n",
    "        drawCircle((pointX1,moyenY),showBorder, np.pi/2, 3*np.pi/2 ,color=ORANGE)\n",
    "        drawCircle((pointX2,moyenY),showBorder, np.pi/2, (-1)*np.pi/2 ,color=ORANGE)\n",
    "        # pixel problem => + 0.1\n",
    "        plt.fill([pointX1-0.1,pointX2+0.1,pointX2+0.1,pointX1-0.1],[pointY1,pointY1,pointY2,pointY2],ORANGE)"
   ]
  },
  {
   "cell_type": "markdown",
   "metadata": {},
   "source": [
    "#### Explication \n",
    "La fonction `drawBordCup(pointLine,showPoint, showBorder)` utilise la fonction `drawMultiplePoint` et `drawCircle`pour dessiner la paille\n",
    "\n",
    "#### Explication du code\n",
    "- `pointLine` represente des points pour dessiner des lignes\n",
    "- `showPoint` affiche des points si vrai\n",
    "- `showBorder` affiche des frontière si vrai"
   ]
  },
  {
   "cell_type": "code",
   "execution_count": 10,
   "metadata": {},
   "outputs": [],
   "source": [
    "def drawStraw(pointLine,showPoint,showBorder):\n",
    "    if len(pointLine) <= 2:\n",
    "        # Distance 2 lines = 1\n",
    "        pointX1 = pointLine[0][0]+1\n",
    "        pointX2 = pointLine[1][0]+1\n",
    "        pointY1 = pointLine[0][1]\n",
    "        pointY2 = pointLine[1][1]\n",
    "        moyenX = (pointX1+pointX2)/2\n",
    "        pointLine2 = [(pointX1, pointY1), (pointX2,pointY2)]\n",
    "        \n",
    "        # dessiner\n",
    "        drawMultiplePoint(pointLine,showPoint, showBorder)\n",
    "        drawMultiplePoint(pointLine2,showPoint, showBorder)\n",
    "        drawCircle((moyenX,pointY2),showBorder, 0, 2*np.pi,0.5,0.2,PINK)\n",
    "        \n",
    "        # décaler pixel pour colorer mieux\n",
    "        plt.fill([pointX1-1,pointX2-1,pointX2,pointX1],[pointY1,pointY2,pointY2,pointY1],PINK)"
   ]
  },
  {
   "cell_type": "markdown",
   "metadata": {},
   "source": [
    "#### Explication \n",
    "La fonction `toLineList(points)` retourne la nouvelle liste qui divise à petits listes de longueur de 3 <br>\n",
    "Example: $[A,B,C,D] \\to [[A,C,B],[B,D,C]]$\n",
    "\n",
    "#### Explication du code\n",
    "- `points` represente des points pour diviser"
   ]
  },
  {
   "cell_type": "code",
   "execution_count": 11,
   "metadata": {},
   "outputs": [],
   "source": [
    "def toLineList(points):\n",
    "    newPoints = []\n",
    "    for i in range(len(points)-2):\n",
    "        newPoints.append([points[i],points[i+2],points[i+1]])\n",
    "    return newPoints"
   ]
  },
  {
   "cell_type": "markdown",
   "metadata": {},
   "source": [
    "#### Explication \n",
    "La fonction `draw2Line(points,showPoint)` dessine 2 lignes avec 3 points données.\n",
    "Elle correspondant à des fonctions suivantes:\n",
    "$$A(x) = a_1x+a_2 = y$$ \n",
    "$$B(x) = b_1x+b_2 = y$$ \n",
    "- Equation: on pose qu'il a 3 points: $p_0(x_0,y_0)$, $p_1(x_1,y_1)$, $p_2(x_2,y_2)$\n",
    "$$ f(x)= \\begin{cases}\n",
    "A(x_0)=y_0\\\\\n",
    "A(x_2)=y_2\\\\\n",
    "B(x_1)=y_1\\\\\n",
    "A(x_2)-B(y_1)=0\n",
    "\\end{cases} \\Rightarrow \n",
    "\\begin{cases}\n",
    "a_1x_0 + a_2=y_0\\\\\n",
    "a_1x_2 + a_2=y_2\\\\\n",
    "b_1x_1 + b_2=y_1\\\\\n",
    "a_1x_0 + a_2-b_1x_1 - b_2=0\n",
    "\\end{cases} $$ \n",
    "- Coresspondant à ce matrix\n",
    "$$ \n",
    "\\begin{pmatrix}\n",
    "x_0 & 1 & 0 & 0 \\\\\n",
    "x_2 & 1 & 0 & 0 \\\\\n",
    "0 & 0 & x_1 & 1 \\\\\n",
    "x_2 & 1 & -x_1 & -1 \n",
    "\\end{pmatrix}\n",
    "\\begin{pmatrix}\n",
    "a_1 \\\\\n",
    "a_2 \\\\\n",
    "b_1 \\\\\n",
    "b_2 \n",
    "\\end{pmatrix}=\n",
    "\\begin{pmatrix}\n",
    "y_0 \\\\\n",
    "y_2 \\\\\n",
    "y_1 \\\\\n",
    "0 \n",
    "\\end{pmatrix}\n",
    "$$\n",
    "\n",
    "#### Explication du code\n",
    "- `points` represente des points pour dessiner des lignes\n",
    "- `showPoint` affiche des points si vrai"
   ]
  },
  {
   "cell_type": "code",
   "execution_count": 12,
   "metadata": {},
   "outputs": [],
   "source": [
    "def draw2Line(points,showPoint):\n",
    "    X,Y = toXY(points)\n",
    "    \n",
    "    if len(points) <= 3:\n",
    "        A = np.array([[X[0],1,0,0],[X[2],1,0,0],[0,0,X[1],1],[X[2],1,-X[2],-1]])\n",
    "        b = np.array([Y[0],Y[2],Y[1],0])\n",
    "        S = solve(A, b)\n",
    "        Va = np.linspace(X[0], X[2], 100)\n",
    "        Vb = np.linspace(X[1], X[2], 100)\n",
    "        def A(x): return S[0]*x+S[1]\n",
    "        def B(x): return S[2]*x+S[3]\n",
    "        if showPoint: plt.plot(X, Y, \"+r\")\n",
    "        plt.plot(Va, A(Va), BLACK,linewidth=1)\n",
    "        plt.plot(Vb, B(Vb), BLACK,linewidth=1)\n",
    "        #plt.axis('equal')"
   ]
  },
  {
   "cell_type": "markdown",
   "metadata": {},
   "source": [
    "#### Explication \n",
    "La fonction `drawMultipleLine(points,showPoint)` utilise la fonction `toLineList` et `draw2Line`pour dessiner plusieurs lignes connectées\n",
    "\n",
    "#### Explication du code\n",
    "- `points` represente des points pour dessiner des lignes\n",
    "- `showPoint` affiche des points si vrai"
   ]
  },
  {
   "cell_type": "code",
   "execution_count": 13,
   "metadata": {},
   "outputs": [],
   "source": [
    "def drawMultipleLine(points,showPoint):\n",
    "    newPoints = toLineList(points)\n",
    "    print(newPoints)\n",
    "    [draw2Line(p,showPoint) for p in newPoints]"
   ]
  },
  {
   "cell_type": "markdown",
   "metadata": {},
   "source": [
    "#### Explication \n",
    "La fonction `showBubbleTea(pointU,pointLineBordCup,pointLineStraw,pointEyeL,pointEyeR,pointMouth,showPoint,showBorder)` utilise la fonction `drawMultiplePoint`, `drawCircle`, `drawMouth`, `drawBordCup` et `drawStraw` pour dessiner la thé à bulles\n",
    "\n",
    "#### Explication du code\n",
    "- `pointU` represente des points pour dessiner tasse de la forme U\n",
    "- `pointLineBordCup` represente des points pour dessiner la bord de tasse\n",
    "- `pointLineStraw` represente des points pour dessiner la paille\n",
    "- `pointEyeL` represente des points pour dessiner l'œil à gauche\n",
    "- `pointEyeR` represente des points pour dessiner l'œil à gauche\n",
    "- `pointMouth` represente des points pour dessiner la bouche\n",
    "- `showPoint` affiche des points si vrai\n",
    "- `showBorder` affiche des frontière si vrai"
   ]
  },
  {
   "cell_type": "code",
   "execution_count": 14,
   "metadata": {},
   "outputs": [],
   "source": [
    "def showBubbleTea(pointU,pointLineBordCup,pointLineStraw,pointEyeL,pointEyeR,pointMouth,showPoint=True,showBorder=True):\n",
    "    # dessiner U\n",
    "    drawMultiplePoint(pointU,showPoint,showBorder)\n",
    "    \n",
    "    # dessiner des yeux\n",
    "    drawMultipleLine(pointEyeL,showPoint)\n",
    "    drawMultipleLine(pointEyeR,showPoint)\n",
    "    \n",
    "    # dessiner la bouche\n",
    "    drawMouth(pointMouth,showPoint)\n",
    "\n",
    "    # dessiner bord de tasse\n",
    "    drawBordCup(pointLineBordCup,showPoint,showBorder)\n",
    "\n",
    "    # dessiner la bord de la thé à bulles\n",
    "    drawCircle((6,11),showBorder,0, np.pi,4,3,MOYEN_BROWN)\n",
    "\n",
    "    # dessiner tapioca\n",
    "    posTapioca = [(4,3),(6,4),(8,3)]\n",
    "    [drawCircle(p,showBorder) for p in posTapioca]\n",
    "\n",
    "    # dessiner la paille\n",
    "    drawStraw(pointLineStraw,showPoint, showBorder)\n",
    "\n",
    "    # Faire le dessin dans le bon position\n",
    "    plt.axis('equal')"
   ]
  },
  {
   "cell_type": "code",
   "execution_count": 15,
   "metadata": {},
   "outputs": [
    {
     "name": "stdout",
     "output_type": "stream",
     "text": [
      "[[(4, 9), (4, 8), (5, 8.5)]]\n",
      "[[(8, 9), (8, 8), (7, 8.5)]]\n"
     ]
    },
    {
     "data": {
      "image/png": "[encoded data removed]",
      "text/plain": [
       "<Figure size 432x288 with 1 Axes>"
      ]
     },
     "metadata": {
      "needs_background": "light"
     },
     "output_type": "display_data"
    }
   ],
   "source": [
    "pointU = [(2,10),(3,2),(4,1),(6,1.1),(8,1),(9,2),(10,10)]\n",
    "pointLineBordCup = [(2, 10), (10,10)]\n",
    "pointLineStraw = [(5, 11), (6,17)]\n",
    "pointEyeL = [(4,9),(5,8.5),(4,8)]\n",
    "pointEyeR = [(8,9),(7,8.5),(8,8)]\n",
    "pointsBordCup = [(10,10),(2,10),(1.5,10.5),(2,11),(6,11.2),(10,11),(10.5,10.5),(10,10)]\n",
    "pointMouth = [(5,7),(6,7),(7,7)]\n",
    "\n",
    "##### SHOW BUBBLE TEA WITH BORDERS & POINTS\n",
    "showBubbleTea(pointU,pointLineBordCup,pointLineStraw,pointEyeL,pointEyeR,pointMouth)"
   ]
  },
  {
   "cell_type": "code",
   "execution_count": 16,
   "metadata": {},
   "outputs": [
    {
     "name": "stdout",
     "output_type": "stream",
     "text": [
      "[[(4, 9), (4, 8), (5, 8.5)]]\n",
      "[[(8, 9), (8, 8), (7, 8.5)]]\n"
     ]
    },
    {
     "data": {
      "image/png": "[encoded data removed]",
      "text/plain": [
       "<Figure size 432x288 with 1 Axes>"
      ]
     },
     "metadata": {
      "needs_background": "light"
     },
     "output_type": "display_data"
    }
   ],
   "source": [
    "##### SHOW BUBBLE TEA WITH NO BORDER\n",
    "showBubbleTea(pointU,pointLineBordCup,pointLineStraw,pointEyeL,pointEyeR,pointMouth,False,False)"
   ]
  },
  {
   "cell_type": "code",
   "execution_count": null,
   "metadata": {},
   "outputs": [],
   "source": []
  }
 ],
 "metadata": {
  "kernelspec": {
   "display_name": "Python 3 (ipykernel)",
   "language": "python",
   "name": "python3"
  },
  "language_info": {
   "codemirror_mode": {
    "name": "ipython",
    "version": 3
   },
   "file_extension": ".py",
   "mimetype": "text/x-python",
   "name": "python",
   "nbconvert_exporter": "python",
   "pygments_lexer": "ipython3",
   "version": "3.9.15"
  }
 },
 "nbformat": 4,
 "nbformat_minor": 2
}
