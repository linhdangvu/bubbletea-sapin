{
 "cells": [
  {
   "cell_type": "markdown",
   "metadata": {},
   "source": [
    "## Dessine la thé de bulles (Bubble Tea) et le Sapin\n",
    "\n",
    "#### Objectif dessine des images qui sont le même à l'image suivant: \n",
    "<div style=\"display:flex;justify-content: space-between\">\n",
    "<div style=\"text-align: center; margin: 10px 20px; padding: 10px\">\n",
    "<p>Dessine la thé à bulles</p>\n",
    "<img src=\"https://raw.githubusercontent.com/linhdangvu/bubbletea-sapin/main/bubbletea.jpg\" alt=\"Bubble Tea\" style=\"width:100px; height: 150px\">\n",
    "</div>\n",
    "<div style=\"text-align: center; margin: 10px 20px;  padding: 10px\">\n",
    "<p>Dessine le Sapin</p>\n",
    "<img src=\"https://raw.githubusercontent.com/linhdangvu/bubbletea-sapin/main/bubbletea.jpg\" alt=\"Bubble Tea\" style=\"width:100px; height: 150px\">\n",
    "</div>\n",
    "</div>\n",
    "\n",
    "#### Des conditions à utiliser:\n",
    "- Utilise des splines dans le cours\n",
    "- Utilise la polynome de degré n dans le cours\n",
    "- Utilise les courbes de cercles/eclispes dans le cours"
   ]
  },
  {
   "cell_type": "code",
   "execution_count": 1,
   "metadata": {},
   "outputs": [],
   "source": [
    "import numpy as np\n",
    "import math as ma\n",
    "import matplotlib.pyplot as plt\n",
    "from numpy.linalg import solve # pour travailler des matrix"
   ]
  },
  {
   "cell_type": "markdown",
   "metadata": {},
   "source": [
    "Fonction général pour dessiner\n",
    "- Pour dessiner des lignes qui passe par n points: $$f(x) = a_0x^0 + a_1x^1 + a_2x^2 + ... a_nx^n$$\n",
    "- Pour dessiner des lignes: $$f(x) = a_0 + a_1x$$\n",
    "- Pour dessiner des parabols: $$f(x) = a_0 + a_1x + a_2x^2$$\n",
    "- Pour dessiner des cercles: $$ f(x)= \\begin{cases}\n",
    "                                [0,\\pi] \\to R^2\\\\\n",
    "                                x \\to (R*cos(x), R*sin(x))\n",
    "                                \\end{cases} $$\n",
    "- Pour dessiner des eclispes: $$ f(x)= \\begin{cases}\n",
    "                                [0,\\pi] \\to R_1,R_2\\\\\n",
    "                                x \\to (R_1*cos(x), R_2*sin(x))\n",
    "                                \\end{cases} $$ "
   ]
  },
  {
   "cell_type": "code",
   "execution_count": 2,
   "metadata": {},
   "outputs": [],
   "source": [
    "# Définir quelques couleurs pour colorer\n",
    "LIGHT_BROWN = \"#f4cfb2\"\n",
    "LIGHT_BLUE = \"#e2efff\"\n",
    "BROWN = \"#c76b3a\"\n",
    "MOYEN_BROWN = \"#d39063\"\n",
    "BLACK = \"#1d232b\"\n",
    "PINK = \"#faa0ba\"\n",
    "WHITE = \"#ffffff\"\n",
    "ORANGE = \"#ffc198\""
   ]
  },
  {
   "cell_type": "code",
   "execution_count": 3,
   "metadata": {},
   "outputs": [],
   "source": [
    "# Cette fonction converte la liste points -> la liste de X, la liste de Y\n",
    "def toXY(points):\n",
    "    return [t[0] for t in points],[t[1] for t in points]"
   ]
  },
  {
   "cell_type": "markdown",
   "metadata": {},
   "source": [
    "#### Explication \n",
    "La fonction `drawMultiplePoint`represente le graphe de n points\n",
    "$$f(x) = a_0x^0 + a_1x^1 + a_2x^2 + ... a_nx^n$$\n",
    "- Equation: on pose qu'il a n points: $p_0(x_0,y_0)$, $p_1(x_1,y_1)$,...,$p_1(x_n,y_n) \\quad \\forall \\; n \\in [0,...,n]$ \n",
    "$$ P(x)= \\begin{cases}\n",
    "f(x_0)=y_0\\\\\n",
    "f(x_1)=y_1\\\\\n",
    "...\\\\\n",
    "f(x_n)=y_n\n",
    "\\end{cases} \\Rightarrow \n",
    "\\begin{cases}\n",
    "a_0 + a_1x_0+a_2x^2_0+...+a_nx^n_0=y_0\\\\\n",
    "a_0 + a_1x_1+a_2x^2_1+...+a_nx^n_1=y_1\\\\\n",
    "...\\\\\n",
    "a_0 + a_1x_n+a_2x^2_n+...+a_nx^n_n=y_n\n",
    "\\end{cases} $$ \n",
    "- Correspondant à ce matrix\n",
    "$$ \n",
    "\\begin{pmatrix}\n",
    "1 & x_0 & x^2_0 & ... & x_0^n\\\\\n",
    "1 & x_1 & x^2_1 & ... & x_1^n\\\\\n",
    "... & ... & ... & ... & ...\\\\\n",
    "1 & x_n & x^2_n & ... & x_n^n\n",
    "\\end{pmatrix}\n",
    "\\begin{pmatrix}\n",
    "a_0 \\\\\n",
    "a_1 \\\\\n",
    "...\\\\\n",
    "a_n\n",
    "\\end{pmatrix}=\n",
    "\\begin{pmatrix}\n",
    "y_0 \\\\\n",
    "y_1 \\\\\n",
    "... \\\\\n",
    "y_n\n",
    "\\end{pmatrix}\n",
    "$$\n",
    "\n",
    "#### Explication du code\n",
    "- `points` represente des points pour dessiner\n",
    "- `showPoint` affiche des points si vrai\n",
    "- `showBorder` affiche des frontière si vrai\n",
    "- `showColor`affiche du couleur si vrai\n",
    "- `color` represente la couleur pour colorer"
   ]
  },
  {
   "cell_type": "code",
   "execution_count": 4,
   "metadata": {},
   "outputs": [],
   "source": [
    "def drawMultiplePoint(points,showPoint, showBorder, showColor, color=LIGHT_BROWN):\n",
    "    # Créer des points pour dessinner\n",
    "    X,Y = toXY(points)\n",
    "    N = len(X)\n",
    "    if showPoint: plt.plot(X,Y, \"*r\")\n",
    "        \n",
    "    def F(x, S, N): return sum(S[t]*(x**t) for t in range(N))\n",
    "    def createListX(X, N): return [1*[X[d]**t for t in range(N)] for d in range(N)]\n",
    "    def createListY(Y, N): return [Y[t] for t in range(N)]\n",
    "\n",
    "    # Créer des listes pour calculer matrix\n",
    "    A = np.array(createListX(X,N))\n",
    "    b = np.array(createListY(Y,N))\n",
    "    S = solve(A,b)\n",
    "   \n",
    "    # Position de X pour dessiner avec nombre de points\n",
    "    Vx = np.linspace(min(X),max(X), 100)\n",
    "   \n",
    "    # Position de Y pour dessiner par la définition F\n",
    "    Vy = [F(t,S,N) for t in Vx]\n",
    "    if showBorder: plt.plot(Vx,Vy,BLACK,linewidth=1)\n",
    "    if showColor: plt.fill(Vx, Vy, color)"
   ]
  },
  {
   "cell_type": "markdown",
   "metadata": {},
   "source": [
    "#### Explication \n",
    "La fonction `drawCircle` represente\n",
    "$$ f(x)= \\begin{cases}\n",
    "[0,\\pi] \\to R_1,R_2\\\\\n",
    "x \\to (R_1*cos(x)+pos, R_2*sin(x)+pos)\n",
    "\\end{cases} $$ \n",
    "\n",
    "- Si on veut dessiner un cercle -> $R_1=R_2$\n",
    "- Si on veut dessiner un eclipse -> $R_1 \\neq R_2$\n",
    "- Si on veut augmenter la taille de cercle/eclipse -> on changer $R_1$ et $R_2$ \n",
    "#### Explication du code\n",
    "- `pos` represente la cercle central -> si on changer la position -> on change pos\n",
    "- `showPoint` affiche des points si vrai\n",
    "- `showBorder` affiche des frontière si vrai\n",
    "- `showColor`affiche du couleur si vrai\n",
    "- `start` et `end`representent la point de départ et la point de destination\n",
    "- `R1` et `R2` representent la rayon du cercle/eclispe\n",
    "- `color` represente la couleur pour colorer\n"
   ]
  },
  {
   "cell_type": "code",
   "execution_count": 5,
   "metadata": {},
   "outputs": [],
   "source": [
    "def drawCircle(pos,showPoint,showBorder,showColor,start = 0, end = 2*np.pi,R1 = 0.5,R2=0.5, color=BROWN):\n",
    "    T = np.linspace(start,end,100)\n",
    "    Vx=R1*np.cos(T)+pos[0]\n",
    "    Vy=R2*np.sin(T)+pos[1]\n",
    "    if showPoint: plt.plot(pos[0],pos[1],\"*r\")\n",
    "    if showBorder: plt.plot(Vx,Vy,BLACK,linewidth=1)\n",
    "    if showColor: plt.fill(Vx,Vy,color)"
   ]
  },
  {
   "cell_type": "markdown",
   "metadata": {},
   "source": [
    "#### Explication \n",
    "La fonction `drawParabol` represente\n",
    "$$f(x) = a_1 + a_2x + a_3x^2$$\n",
    "- Equation: on pose qu'il a 2 points: $p_0(x_0,y_0)$ et $p_1(x_1,y_1)$\n",
    "$$ P(x)= \\begin{cases}\n",
    "f(x_0)=y_0\\\\\n",
    "f(x_1)=y_1\\\\\n",
    "f^\\prime(x_1)=y_1\n",
    "\\end{cases} \\Rightarrow \n",
    "\\begin{cases}\n",
    "a_1 + a_2x_0 + a_3x^2_0=y_0\\\\\n",
    "a_1 + a_2x_1 + a_3x^2_1=y_1\\\\\n",
    "a_2 + 2a_3x_0= \\alpha\n",
    "\\end{cases} $$ \n",
    "- Correspondant à ce matrix\n",
    "$$ \n",
    "\\begin{pmatrix}\n",
    "1 & x_0 & x^2_0 \\\\\n",
    "1 & x_1 & x^2_1 \\\\\n",
    "0 & 1 & 2x_0 \n",
    "\\end{pmatrix}\n",
    "\\begin{pmatrix}\n",
    "a_1 \\\\\n",
    "a_2 \\\\\n",
    "a_3 \n",
    "\\end{pmatrix}=\n",
    "\\begin{pmatrix}\n",
    "y_0 \\\\\n",
    "y_1 \\\\\n",
    "\\alpha\n",
    "\\end{pmatrix}\n",
    "$$\n",
    "\n",
    "\n",
    "#### Explication du code\n",
    "- `points` represente des points pour dessiner\n",
    "- `showPoint` affiche des points si vrai\n",
    "- `showBorder` affiche des frontière si vrai"
   ]
  },
  {
   "cell_type": "code",
   "execution_count": 6,
   "metadata": {},
   "outputs": [],
   "source": [
    "def drawParabol(points, showPoint,showBorder):\n",
    "    # Créer des points pour dessinner\n",
    "    X,Y = toXY(points)\n",
    "    alpha = X[0]*2\n",
    "    if showPoint: plt.plot(X, Y, \"+r\")\n",
    "    N = len(points)\n",
    "    if N <= 3: # for only 5 points for now\n",
    "        A = np.array([[1,X[0],X[0]**2],\n",
    "                      [1,X[1],X[1]**2],\n",
    "                      [0,0,2*X[0]]])\n",
    "\n",
    "        b = np.array([Y[0],Y[1],alpha])\n",
    "        S = solve(A, b)\n",
    "        def A(x): return S[0]+S[1]*x+S[2]*x**2\n",
    "        Va = np.linspace(X[0], X[1], 100)\n",
    "        plt.plot(Va, A(Va), BLACK,linewidth=1)"
   ]
  },
  {
   "cell_type": "markdown",
   "metadata": {},
   "source": [
    "#### Explication \n",
    "La fonction `toSmallList` retourne la nouvelle liste qui divise à petits listes de longueur de 2 <br>\n",
    "Example: $[A,B,C,D] \\to [[A,B],[B,C],[C,D]]$\n",
    "\n",
    "#### Explication du code\n",
    "- `fullList` represente des points pour diviser"
   ]
  },
  {
   "cell_type": "code",
   "execution_count": 7,
   "metadata": {},
   "outputs": [],
   "source": [
    "# Cette fonction pour divise grande liste à petit list avec longueur = 2\n",
    "def toSmallList(fullList):\n",
    "    newList = []\n",
    "    for i in range(len(fullList)-1):\n",
    "        newList.append([fullList[i],fullList[i+1]])\n",
    "    return newList    "
   ]
  },
  {
   "cell_type": "markdown",
   "metadata": {},
   "source": [
    "#### Explication \n",
    "La fonction `drawMouth` utilise la fonction `toSmallList`et `drawParabol`pour dessiner la bouche.<br>\n",
    "On utilise 2 parabols pour dessiner\n",
    "\n",
    "#### Explication du code\n",
    "- `points` represente des points pour dessiner la bouche\n",
    "- `showPoint` affiche des points si vrai\n",
    "- `showBorder` affiche des frontière si vrai"
   ]
  },
  {
   "cell_type": "code",
   "execution_count": 8,
   "metadata": {},
   "outputs": [],
   "source": [
    "# Cette fonction affiche la liste des parabols pour dessiner la bouche\n",
    "def drawMouth(points, showPoint, showBorder):\n",
    "    divisePoints = toSmallList(points)\n",
    "    #print(divisePoints)\n",
    "    [drawParabol(dp,showPoint,showBorder) for dp in divisePoints]"
   ]
  },
  {
   "cell_type": "markdown",
   "metadata": {},
   "source": [
    "#### Explication \n",
    "La fonction `drawBordCup` utilise la fonction `drawMultiplePoint` et `drawCircle`pour dessiner la bord de tasse\n",
    "<br><br>\n",
    "Pour dessiner un demi du cercle, on change la point `start` et `end` de la fonction `drawCircle`\n",
    "- Demi cercle à gauche: $\\dfrac{\\pi}{2} \\to \\dfrac{3\\pi}{2}$\n",
    "- Demi cercle à droite: $\\dfrac{\\pi}{2} \\to \\dfrac{-\\pi}{2}$\n",
    "\n",
    "#### Explication du code\n",
    "- `pointLine` represente des points pour dessiner des lignes\n",
    "- `showPoint` affiche des points si vrai\n",
    "- `showBorder` affiche des frontière si vrai\n",
    "- `showColor` affiche du couleur si vrai"
   ]
  },
  {
   "cell_type": "code",
   "execution_count": 9,
   "metadata": {},
   "outputs": [],
   "source": [
    "def drawBordCup(pointLine,showPoint, showBorder,showColor): \n",
    "    if len(pointLine) <= 2:\n",
    "        # Distance 2 lines = 1\n",
    "        pointX1 = pointLine[0][0]\n",
    "        pointX2 = pointLine[1][0]\n",
    "        pointY1 = pointLine[0][1]\n",
    "        pointY2 = pointLine[0][1]+1\n",
    "        moyenY = (pointLine[0][1]+pointY2)/2\n",
    "        pointLine2 = [(pointX1, pointY2), (pointX2,pointY2)]\n",
    "        \n",
    "        # dessiner\n",
    "        drawMultiplePoint(pointLine,showPoint, showBorder,showColor)\n",
    "        drawMultiplePoint(pointLine2,showPoint, showBorder,showColor)\n",
    "        # dessiner un demi de cercle\n",
    "        drawCircle((pointX1,moyenY),showPoint,showBorder,showColor, np.pi/2, 3*np.pi/2 ,color=ORANGE)\n",
    "        drawCircle((pointX2,moyenY),showPoint,showBorder,showColor, np.pi/2, (-1)*np.pi/2 ,color=ORANGE)\n",
    "        # pixel problem => + 0.1\n",
    "        if showColor: plt.fill([pointX1-0.1,pointX2+0.1,pointX2+0.1,pointX1-0.1],[pointY1,pointY1,pointY2,pointY2],ORANGE)"
   ]
  },
  {
   "cell_type": "markdown",
   "metadata": {},
   "source": [
    "#### Explication \n",
    "La fonction `drawStraw` utilise la fonction `drawMultiplePoint` et `drawCircle`pour dessiner la paille\n",
    "\n",
    "#### Explication du code\n",
    "- `pointLine` represente des points pour dessiner des lignes\n",
    "- `showPoint` affiche des points si vrai\n",
    "- `showBorder` affiche des frontière si vrai\n",
    "- `showColor` affiche du couleur si vrai"
   ]
  },
  {
   "cell_type": "code",
   "execution_count": 10,
   "metadata": {},
   "outputs": [],
   "source": [
    "def drawStraw(pointLine,showPoint,showBorder, showColor):\n",
    "    if len(pointLine) <= 2:\n",
    "        # Distance 2 lines = 1\n",
    "        pointX1 = pointLine[0][0]+1\n",
    "        pointX2 = pointLine[1][0]+1\n",
    "        pointY1 = pointLine[0][1]\n",
    "        pointY2 = pointLine[1][1]\n",
    "        moyenX = (pointX1+pointX2)/2\n",
    "        pointLine2 = [(pointX1, pointY1), (pointX2,pointY2)]\n",
    "        \n",
    "        # dessiner\n",
    "        drawMultiplePoint(pointLine,showPoint, showBorder,showColor)\n",
    "        drawMultiplePoint(pointLine2,showPoint, showBorder,showColor)\n",
    "        drawCircle((moyenX,pointY2),showPoint,showBorder,showColor, 0, 2*np.pi,0.5,0.2,PINK)\n",
    "        \n",
    "        # décaler pixel pour colorer mieux\n",
    "        if showColor: plt.fill([pointX1-1,pointX2-1,pointX2,pointX1],[pointY1,pointY2,pointY2,pointY1],PINK)"
   ]
  },
  {
   "cell_type": "markdown",
   "metadata": {},
   "source": [
    "#### Explication \n",
    "La fonction `toLineList` retourne la nouvelle liste qui divise à petits listes de longueur de 3 <br>\n",
    "Example: $[A,B,C,D] \\to [[A,C,B],[B,D,C]]$\n",
    "\n",
    "#### Explication du code\n",
    "- `points` represente des points pour diviser"
   ]
  },
  {
   "cell_type": "code",
   "execution_count": 11,
   "metadata": {},
   "outputs": [],
   "source": [
    "def toLineList(points):\n",
    "    newPoints = []\n",
    "    for i in range(len(points)-2):\n",
    "        newPoints.append([points[i],points[i+2],points[i+1]])\n",
    "    return newPoints"
   ]
  },
  {
   "cell_type": "markdown",
   "metadata": {},
   "source": [
    "#### Explication \n",
    "La fonction `draw2Line` dessine 2 lignes avec 3 points données.\n",
    "Elle correspondant à des fonctions suivantes:\n",
    "$$A(x) = a_1x+a_2 = y$$ \n",
    "$$B(x) = b_1x+b_2 = y$$ \n",
    "- Equation: on pose qu'il a 3 points: $p_0(x_0,y_0)$, $p_1(x_1,y_1)$, $p_2(x_2,y_2)$\n",
    "$$ P(x)= \\begin{cases}\n",
    "A(x_0)=y_0\\\\\n",
    "A(x_2)=y_2\\\\\n",
    "B(x_1)=y_1\\\\\n",
    "A(x_2)-B(y_1)=0\n",
    "\\end{cases} \\Rightarrow \n",
    "\\begin{cases}\n",
    "a_1x_0 + a_2=y_0\\\\\n",
    "a_1x_2 + a_2=y_2\\\\\n",
    "b_1x_1 + b_2=y_1\\\\\n",
    "a_1x_0 + a_2-b_1x_1 - b_2=0\n",
    "\\end{cases} $$ \n",
    "- Coresspondant à ce matrix\n",
    "$$ \n",
    "\\begin{pmatrix}\n",
    "x_0 & 1 & 0 & 0 \\\\\n",
    "x_2 & 1 & 0 & 0 \\\\\n",
    "0 & 0 & x_1 & 1 \\\\\n",
    "x_2 & 1 & -x_1 & -1 \n",
    "\\end{pmatrix}\n",
    "\\begin{pmatrix}\n",
    "a_1 \\\\\n",
    "a_2 \\\\\n",
    "b_1 \\\\\n",
    "b_2 \n",
    "\\end{pmatrix}=\n",
    "\\begin{pmatrix}\n",
    "y_0 \\\\\n",
    "y_2 \\\\\n",
    "y_1 \\\\\n",
    "0 \n",
    "\\end{pmatrix}\n",
    "$$\n",
    "\n",
    "#### Explication du code\n",
    "- `points` represente des points pour dessiner des lignes\n",
    "- `showPoint` affiche des points si vrai\n",
    "- `showBorder` affiche des frontière si vrai\n",
    "- `border` colore la frontière"
   ]
  },
  {
   "cell_type": "code",
   "execution_count": 12,
   "metadata": {},
   "outputs": [],
   "source": [
    "def draw2Line(points,showPoint,showBorder,border):\n",
    "    X,Y = toXY(points)\n",
    "    \n",
    "    if len(points) <= 3:\n",
    "        A = np.array([[X[0],1,0,0],[X[2],1,0,0],[0,0,X[1],1],[X[2],1,-X[2],-1]])\n",
    "        b = np.array([Y[0],Y[2],Y[1],0])\n",
    "        S = solve(A, b)\n",
    "        Va = np.linspace(X[0], X[2], 100)\n",
    "        Vb = np.linspace(X[1], X[2], 100)\n",
    "        def A(x): return S[0]*x+S[1]\n",
    "        def B(x): return S[2]*x+S[3]\n",
    "        if showPoint: plt.plot(X, Y, \"*r\")\n",
    "        #plt.fill(X,Y,\"b\")\n",
    "        if showBorder:\n",
    "            plt.plot(Va, A(Va), border,linewidth=1)\n",
    "            plt.plot(Vb, B(Vb), border,linewidth=1)\n",
    "        #plt.axis('equal')"
   ]
  },
  {
   "cell_type": "markdown",
   "metadata": {},
   "source": [
    "#### Explication \n",
    "La fonction `drawMultipleLine` utilise la fonction `toLineList` et `draw2Line`pour dessiner plusieurs lignes connectées\n",
    "\n",
    "#### Explication du code\n",
    "- `points` represente des points pour dessiner des lignes\n",
    "- `showPoint` affiche des points si vrai\n",
    "- `showBorder` affiche des frontière si vrai \n",
    "- `border` colore la frontière. La couleur par défaut est `BLACK`"
   ]
  },
  {
   "cell_type": "code",
   "execution_count": 13,
   "metadata": {},
   "outputs": [],
   "source": [
    "def drawMultipleLine(points,showPoint,showBorder,border=BLACK):\n",
    "    newPoints = toLineList(points)\n",
    "    #print(newPoints)\n",
    "    [draw2Line(p,showPoint, showBorder,border) for p in newPoints]"
   ]
  },
  {
   "cell_type": "markdown",
   "metadata": {},
   "source": [
    "#### Explication \n",
    "La fonction `drawSpline` est la fonction qu'on apprend dans de cours. \n",
    "\n",
    "#### Explication du code\n",
    "- `points` represente des points pour dessiner des splines\n",
    "- `showPoint` affiche des points si vrai\n",
    "- `showBorder` affiche des frontière si vrai\n",
    "- `showColor` affiche la couleur si vrai\n",
    "- `border` colore la frontière. La couleur par défaut est `BLACK`\n",
    "- `color` represente la couleur pour colorer. La couleur par défaut est `r` (rough)"
   ]
  },
  {
   "cell_type": "code",
   "execution_count": 14,
   "metadata": {},
   "outputs": [],
   "source": [
    "def drawSpline(points,showPoint,showBorder,showColor,color=\"r\", border=BLACK):\n",
    "    Nb=len(points)-1\n",
    "    X,Y = toXY(points)\n",
    "  \n",
    "    if showPoint: plt.plot(X,Y,\"*r\")\n",
    "    if showColor: plt.fill(X,Y,\"r\")\n",
    "\n",
    "    t = np.linspace(0,1,Nb+1)\n",
    "    Mat0 = np.zeros((8*Nb,8*Nb))\n",
    "    b = np.zeros(8*Nb)\n",
    "\n",
    "    Mat0[0,0:4] = [1,t[0],t[0]**2,t[0]**3]\n",
    "    Mat0[1,4:8] = [1,t[0],t[0]**2,t[0]**3]\n",
    "    Mat0[2,0:4] = [0,0,2,6*t[0]]  \n",
    "    Mat0[3,4:8] = [0,0,2,6*t[0]]  \n",
    "    b[0:4] = [X[0],Y[0],0,0]\n",
    "\n",
    "    for i in range(1,Nb):\n",
    "        b[8*i-4:8*i+4] = [X[i],Y[i],X[i],Y[i],0,0,0,0]\n",
    "        Mat0[8*i-4,8*(i-1)+0:8*(i-1)+4] = [1,t[i],t[i]**2,t[i]**3]  \n",
    "        Mat0[8*i-3,8*(i-1)+4:8*(i-1)+8] = [1,t[i],t[i]**2,t[i]**3]\n",
    "        Mat0[8*i-2,8*(i-1)+8:8*(i-1)+12] = [1,t[i],t[i]**2,t[i]**3]  \n",
    "        Mat0[8*i-1,8*(i-1)+12:8*(i-1)+16] = [1,t[i],t[i]**2,t[i]**3]\n",
    "        Mat0[8*i+0,8*(i-1)+0:8*(i-1)+4] = [0,1,2*t[i],3*t[i]**2]    \n",
    "        Mat0[8*i+0,8*(i-1)+8:8*(i-1)+12] = [0,-1,-2*t[i],-3*t[i]**2]  \n",
    "        Mat0[8*i+1,8*(i-1)+4:8*(i-1)+8] = [0,1,2*t[i],3*t[i]**2]    \n",
    "        Mat0[8*i+1,8*(i-1)+12:8*(i-1)+16] = [0,-1,-2*t[i],-3*t[i]**2]  \n",
    "        Mat0[8*i+2,8*(i-1)+0:8*(i-1)+4] = [0,0,2,6*t[i]]   \n",
    "        Mat0[8*i+2,8*(i-1)+8:8*(i-1)+12] = [0,0,-2,-6*t[i]]\n",
    "        Mat0[8*i+3,8*(i-1)+4:8*(i-1)+8] = [0,0,2,6*t[i]]    \n",
    "        Mat0[8*i+3,8*(i-1)+12:8*(i-1)+16] = [0,0,-2,-6*t[i]]  \n",
    "\n",
    "\n",
    "    Mat0[8*Nb-4,8*Nb-8:8*Nb-4] = [1,t[Nb],t[Nb]**2,t[Nb]**3]  \n",
    "    Mat0[8*Nb-3,8*Nb-4:8*Nb] = [1,t[Nb],t[Nb]**2,t[Nb]**3]  \n",
    "    Mat0[8*Nb-2,8*Nb-8:8*Nb - 4] = [0,0,2,6*t[Nb]]  \n",
    "    Mat0[8*Nb-1,8*Nb-4:8*Nb] = [0,0,2,6*t[Nb]]  \n",
    "    b[8*Nb-4:8*Nb] = [X[Nb],Y[Nb],0,0]\n",
    "\n",
    "    Sol = solve(Mat0,b)\n",
    "\n",
    "    for i in range(0,Nb):\n",
    "        def S(x): return [Sol[8*i+0] + Sol[8*i+1]*x + Sol[8*i+2]*x**2 + Sol[8*i+3]*x**3,Sol[8*i+4] + Sol[8*i+5]*x + Sol[8*i+6]*x**2 + Sol[8*i+7]*x**3]\n",
    "        Vx = np.linspace(t[i],t[i+1],100)\n",
    "        Gamma = S(Vx)\n",
    "        if showBorder: plt.plot(Gamma[0],Gamma[1],border,linewidth=1)\n",
    "        if showColor: plt.fill(Gamma[0],Gamma[1],\"r\")\n",
    "\n"
   ]
  },
  {
   "cell_type": "markdown",
   "metadata": {},
   "source": [
    "#### Explication \n",
    "La fonction `showBubbleTea` utilise la fonction `drawMultiplePoint`, `drawCircle`, `drawMouth`, `drawBordCup` et `drawStraw` pour dessiner la thé à bulles.\n",
    "<br><br>\n",
    "Pour dessiner des ailes, on dessine l'aile à droite d'abord. Puis, on dessine la symétrie de l'aile droite. Par exemple:\n",
    "- $P_d(x_d,y_d) = P_d(10.5,10,5)$ -> la première point de droite\n",
    "- $P_g(x_g,y_g) = P_g(1.5,10,5)$ -> la première point de gauche\n",
    "- Pour faire la symétrie de x, on garde des points y, on calcule la moyen de point x\n",
    "$$moyen=\\dfrac{x_g+x_d}{2}=\\dfrac{10.5+1.5}{2}=6 $$\n",
    "- On defini la fonction pour calculer la symétrie de x. Dans ce cas, on connaît déjà la liste de X à droite ($X_d$)\n",
    "$$ x_g=(moyen*2)-x_d=(6*2)-x_d=12-x_d$$\n",
    "\n",
    "\n",
    "#### Explication du code\n",
    "- `pointU` represente des points pour dessiner tasse de la forme U\n",
    "- `pointLineBordCup` represente des points pour dessiner la bord de tasse\n",
    "- `pointLineStraw` represente des points pour dessiner la paille\n",
    "- `pointEyeL` represente des points pour dessiner l'œil à gauche\n",
    "- `pointEyeR` represente des points pour dessiner l'œil à gauche\n",
    "- `pointMouth` represente des points pour dessiner la bouche\n",
    "- `pointWingRight` represente des points de droit de l'aile\n",
    "- `wingsColor` represente la coucleur de frontière de l'aile\n",
    "- `showPoint` affiche des points si vrai\n",
    "- `showBorder` affiche des frontière si vrai\n",
    "- `showEyeMouth` affiche des yeux et la bouche si vrai\n",
    "- `showWings` affiche de ailes si vrai\n",
    "- `showColor` affiche la couleur si vrai"
   ]
  },
  {
   "cell_type": "code",
   "execution_count": 15,
   "metadata": {},
   "outputs": [],
   "source": [
    "def showBubbleTea(pointU,pointLineBordCup,pointLineStraw,pointEyeL,pointEyeR,pointMouth,pointWingRight=None,wingsColor=None,showPoint=True,showBorder=True,showEyeMouth=True,showWings=True,showColor=True):\n",
    "    # dessiner des ailes\n",
    "    if pointWingRight and wingsColor:\n",
    "        pointWingLeft = [(12-p[0],p[1]) for p in pointWingRight]\n",
    "        drawSpline(pointWingRight,showPoint,showWings,showColor,border = wingsColor)\n",
    "        drawSpline(pointWingLeft,showPoint,showWings,showColor,border = wingsColor)\n",
    "    \n",
    "    # dessiner U\n",
    "    drawMultiplePoint(pointU,showPoint,showBorder,showColor)\n",
    "    \n",
    "    # dessiner des yeux\n",
    "    drawMultipleLine(pointEyeL,showPoint,showEyeMouth)\n",
    "    drawMultipleLine(pointEyeR,showPoint,showEyeMouth)\n",
    "    \n",
    "    # dessiner la bouche\n",
    "    if len(pointMouth) == 3:\n",
    "        drawMouth(pointMouth,showPoint,showBorder)\n",
    "    else:\n",
    "        drawSpline(pointMouth,showPoint,showEyeMouth,False)\n",
    "\n",
    "    # dessiner bord de tasse\n",
    "    drawBordCup(pointLineBordCup,showPoint,showBorder,showColor)\n",
    "\n",
    "    # dessiner la tête de tasse\n",
    "    drawCircle((6,11),showPoint,showBorder,showColor,0, np.pi,4,3,MOYEN_BROWN)\n",
    "    \n",
    "    # dessiner tapioca\n",
    "    posTapioca = [(4,3),(6,4),(8,3)]\n",
    "    [drawCircle(p,showPoint,showBorder,showColor) for p in posTapioca]\n",
    "\n",
    "    # dessiner la paille\n",
    "    drawStraw(pointLineStraw,showPoint, showBorder,showColor)\n",
    "\n",
    "    # Faire le dessin dans le bon position\n",
    "    plt.axis('equal')"
   ]
  },
  {
   "cell_type": "markdown",
   "metadata": {},
   "source": [
    "#### Explication \n",
    "La fonction `drawSapin` utilise la fonction `drawMultiplePoint` pour dessiner le sapin.\n",
    "<br><br>\n",
    "Pour dessiner ce sapin, on utilite que des lignes $f(x)=a_0+a_1x$. Puis, on calcule la symétrie des points à gauche pour dessiner des points à droite. La méthode de calcul de la symétrie est la même avec le calcul de la symétrie de l'aile au-dessus.\n",
    "\n",
    "#### Explication du code\n",
    "- `pointSapinLeft` represente des points pour dessiner le sapin à gauche\n",
    "- `showPoint` affiche des points si vrai"
   ]
  },
  {
   "cell_type": "code",
   "execution_count": 16,
   "metadata": {},
   "outputs": [],
   "source": [
    "def showSapin(pointSapinLeft,pointFootLeft, showPoint=True,showBorder=True):\n",
    "    # on calcule la symétrie des points de sapin à droite par des points à gauche\n",
    "    symetricSapin = pointSapinLeft[0][0] \n",
    "    pointSapinRight = [(symetricSapin*2 - pS[0], pS[1]) for pS in pointSapinLeft]\n",
    "    \n",
    "    # on calcule la symétrie des pied de sapin à droite par des points à gauche\n",
    "    symetricFoot = pointFootLeft[len(pointFootLeft)-1][0]\n",
    "    pointFootRight = [(symetricFoot*2 - pFS[0], pFS[1]) for pFS in pointFootLeft]\n",
    "\n",
    "    # Dessiner le sapin\n",
    "    drawMultipleLine(pointSapinLeft,showPoint,showBorder,\"g\")\n",
    "    drawMultipleLine(pointSapinRight,showPoint,showBorder,\"g\")\n",
    "    drawMultipleLine(pointFootLeft,showPoint,showBorder,BROWN)\n",
    "    drawMultipleLine(pointFootRight,showPoint,showBorder,BROWN)\n",
    "    plt.axis('equal')"
   ]
  },
  {
   "cell_type": "markdown",
   "metadata": {},
   "source": [
    "## Des points on a besoin pour dessiner le sapin et afficher la résultat"
   ]
  },
  {
   "cell_type": "code",
   "execution_count": 17,
   "metadata": {},
   "outputs": [],
   "source": [
    "pointSapinLeft = [(25,20),(22,15),(24,15),(20,10),(23,10),(19,5),(24,5)]\n",
    "pointFootLeft = [(24,5),(23.5,1),(25,1)]"
   ]
  },
  {
   "cell_type": "markdown",
   "metadata": {},
   "source": [
    "## Des points on a besoin pour dessiner la thé à tasse et afficher la résultat"
   ]
  },
  {
   "cell_type": "code",
   "execution_count": 18,
   "metadata": {},
   "outputs": [],
   "source": [
    "pointU = [(2,10),(3,2),(4,1),(6,1.1),(8,1),(9,2),(10,10)]\n",
    "pointLineBordCup = [(2, 10), (10,10)]\n",
    "pointLineStraw = [(5, 11), (6,17)]\n",
    "pointEyeL = [(4,9),(5,8.5),(4,8)]\n",
    "pointEyeR = [(8,9),(7,8.5),(8,8)]\n",
    "pointWingRight = [(10.5,10.5),(15,14),(11,8),(15,10),(11.5,6),(15,7),(9,2)]\n",
    "pointWingRight = [(10,10),(15,14),(11,8),(15,10),(11.5,6),(15,7),(9,2)]\n",
    "\n",
    "# Dessine la bouche par des parabols points\n",
    "pointMouth1 = [(5,7),(6,7),(7,7)]\n",
    "\n",
    "# Dessine la bouche par des splines points\n",
    "pointMouth2 = [(5,7),(4.5,6.5),(5,6),(6,6.5),(7,6),(7.5,6.5),(7,7)]"
   ]
  },
  {
   "cell_type": "markdown",
   "metadata": {},
   "source": [
    "### Affiche des points de la thé à bulles & le Sapin "
   ]
  },
  {
   "cell_type": "code",
   "execution_count": 19,
   "metadata": {},
   "outputs": [
    {
     "data": {
      "image/png": "[encoded data removed]",
      "text/plain": [
       "<Figure size 432x288 with 1 Axes>"
      ]
     },
     "metadata": {
      "needs_background": "light"
     },
     "output_type": "display_data"
    }
   ],
   "source": [
    "showBubbleTea(pointU,pointLineBordCup,pointLineStraw,pointEyeL,pointEyeR,pointMouth2,pointWingRight,'-r',True,False,False,False,False)\n",
    "showSapin(pointSapinLeft,pointFootLeft,True,False)"
   ]
  },
  {
   "cell_type": "markdown",
   "metadata": {},
   "source": [
    "### Affiche des frontières et des points de la thé à bulles & le Sapin "
   ]
  },
  {
   "cell_type": "code",
   "execution_count": 20,
   "metadata": {},
   "outputs": [
    {
     "data": {
      "image/png": "[encoded data removed]",
      "text/plain": [
       "<Figure size 432x288 with 1 Axes>"
      ]
     },
     "metadata": {
      "needs_background": "light"
     },
     "output_type": "display_data"
    }
   ],
   "source": [
    "## Show bubble tea with mouse draw by 2 parabols\n",
    "#showBubbleTea(pointU,pointLineBordCup,pointLineStraw,pointEyeL,pointEyeR,pointMouth1,pointWingRight)\n",
    "\n",
    "## Show bubble tea with spline\n",
    "showBubbleTea(pointU,pointLineBordCup,pointLineStraw,pointEyeL,pointEyeR,pointMouth2,pointWingRight,\"-r\",True,True,True,True,False)\n",
    "\n",
    "## Show sapin next to bubble tea\n",
    "showSapin(pointSapinLeft,pointFootLeft,True,True)\n"
   ]
  },
  {
   "cell_type": "markdown",
   "metadata": {},
   "source": [
    "### La résultat qu'on veut afficher"
   ]
  },
  {
   "cell_type": "code",
   "execution_count": 21,
   "metadata": {},
   "outputs": [
    {
     "data": {
      "image/png": "[encoded data removed]",
      "text/plain": [
       "<Figure size 432x288 with 1 Axes>"
      ]
     },
     "metadata": {
      "needs_background": "light"
     },
     "output_type": "display_data"
    }
   ],
   "source": [
    "##### SHOW BUBBLE TEA \n",
    "showBubbleTea(pointU,pointLineBordCup,pointLineStraw,pointEyeL,pointEyeR,pointMouth2,pointWingRight,'-r',False,False,True,True,True)\n",
    "\n",
    "## Show sapin next to bubble tea\n",
    "showSapin(pointSapinLeft,pointFootLeft, False)"
   ]
  },
  {
   "cell_type": "markdown",
   "metadata": {},
   "source": [
    "### La résultat avec la bouche qui est dessiné par 2 parabols"
   ]
  },
  {
   "cell_type": "code",
   "execution_count": 22,
   "metadata": {},
   "outputs": [
    {
     "data": {
      "image/png": "[encoded data removed]",
      "text/plain": [
       "<Figure size 432x288 with 1 Axes>"
      ]
     },
     "metadata": {
      "needs_background": "light"
     },
     "output_type": "display_data"
    }
   ],
   "source": [
    "##### SHOW BUBBLE TEA WITH MOUTH IN 2 PARABOLS\n",
    "showBubbleTea(pointU,pointLineBordCup,pointLineStraw,pointEyeL,pointEyeR,pointMouth1,pointWingRight,'-r',False,False,True,True,True)\n",
    "\n",
    "## Show sapin next to bubble tea\n",
    "showSapin(pointSapinLeft,pointFootLeft, False)"
   ]
  },
  {
   "cell_type": "code",
   "execution_count": null,
   "metadata": {},
   "outputs": [],
   "source": []
  },
  {
   "cell_type": "code",
   "execution_count": null,
   "metadata": {},
   "outputs": [],
   "source": []
  }
 ],
 "metadata": {
  "kernelspec": {
   "display_name": "Python 3 (ipykernel)",
   "language": "python",
   "name": "python3"
  },
  "language_info": {
   "codemirror_mode": {
    "name": "ipython",
    "version": 3
   },
   "file_extension": ".py",
   "mimetype": "text/x-python",
   "name": "python",
   "nbconvert_exporter": "python",
   "pygments_lexer": "ipython3",
   "version": "3.9.15"
  }
 },
 "nbformat": 4,
 "nbformat_minor": 2
}
