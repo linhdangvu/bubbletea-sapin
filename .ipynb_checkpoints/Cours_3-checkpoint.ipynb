{
 "cells": [
  {
   "cell_type": "code",
   "execution_count": 4,
   "id": "b58c1444",
   "metadata": {},
   "outputs": [],
   "source": [
    "import numpy as np\n",
    "import matplotlib.pyplot as plt\n",
    "from numpy.linalg import solve\n",
    "from ipywidgets import interact, interactive, fixed, interact_manual\n",
    "import ipywidgets as widgets\n"
   ]
  },
  {
   "cell_type": "code",
   "execution_count": 3,
   "id": "33f5452b",
   "metadata": {},
   "outputs": [],
   "source": [
    "X = [0,1]\n",
    "Y = [0,2]\n",
    "\n",
    "A = np.array([[1,X[0],X[0]**2,X[0]**3],\n",
    "               [1,X[1],X[1]**2,X[1]**3],\n",
    "               [0,1,2*X[0],3*X[0]**2],\n",
    "               [0,1,2*X[1],3*X[1]**2]])\n",
    "\n",
    "Vx = np.linspace(X[0], X[1], 100)\n",
    "\n",
    "@interact(alpha0=(-20,20,1),alpha1=(-20,20,1),y0=(-5,5,0.5))\n",
    "def g(alpha0,alpha1,y0):\n",
    "    b=np.array([y0,Y[1],alpha0,alpha1])\n",
    "    Sol = solve(A, b)\n",
    "    plt.plot(X,[y0,Y[1]],marker='*',markersize=20.)\n",
    "    def P(x): return Sol[0] + Sol[1]*x + Sol[2]*x**2 + Sol[3]*x**3\n",
    "    plt.plot(Vx,P(Vx), \"-r\",linewidth=4.5)\n",
    "    plt.axis('equal')"
   ]
  },
  {
   "cell_type": "code",
   "execution_count": null,
   "id": "25fd64f7",
   "metadata": {},
   "outputs": [],
   "source": [
    "\n",
    "\n"
   ]
  },
  {
   "cell_type": "code",
   "execution_count": null,
   "id": "64939447",
   "metadata": {},
   "outputs": [],
   "source": []
  }
 ],
 "metadata": {
  "kernelspec": {
   "display_name": "Python 3 (ipykernel)",
   "language": "python",
   "name": "python3"
  },
  "language_info": {
   "codemirror_mode": {
    "name": "ipython",
    "version": 3
   },
   "file_extension": ".py",
   "mimetype": "text/x-python",
   "name": "python",
   "nbconvert_exporter": "python",
   "pygments_lexer": "ipython3",
   "version": "3.9.15"
  }
 },
 "nbformat": 4,
 "nbformat_minor": 5
}
