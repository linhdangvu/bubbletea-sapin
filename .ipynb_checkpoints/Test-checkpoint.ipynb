{
 "cells": [
  {
   "cell_type": "code",
   "execution_count": 1,
   "id": "6baf7f39",
   "metadata": {},
   "outputs": [],
   "source": [
    "import numpy as np\n",
    "import math as ma\n",
    "import matplotlib.pyplot as plt\n",
    "from numpy.linalg import solve # pour travailler des matrix"
   ]
  },
  {
   "cell_type": "code",
   "execution_count": null,
   "id": "d5924464",
   "metadata": {},
   "outputs": [],
   "source": [
    "def drawParabol(x, S, N): return sum(S[t]*(x**t) for t in range(N))\n",
    "def createListX(X, N): return [1*[X[d]**t for t in range(N)] for d in range(N)]\n",
    "def createListY(Y, N): return [Y[t] for t in range(N)]"
   ]
  },
  {
   "cell_type": "code",
   "execution_count": null,
   "id": "2aed66bd",
   "metadata": {},
   "outputs": [],
   "source": [
    "def drawLine(p1, p2):\n",
    "    # Créer des points pour dessinner\n",
    "    X = [p1[0], p2[0]]\n",
    "    Y = [p1[1], p2[1]]\n",
    "    N = len(X)\n",
    "    plt.plot(X,Y, \"*r\")\n",
    "  \n",
    "    # Créer des listes pour calculer matrix\n",
    "    A = np.array(createListX(X,N))\n",
    "    b = np.array(createListY(Y,N))\n",
    "    S = solve(A,b)\n",
    "    print(A,b,S.dot(A))\n",
    "   \n",
    "    # Position de X pour dessiner avec nombre de points\n",
    "    Vx = np.linspace(min(X),max(X), 10)\n",
    "    print(drawParabol(Vx[0],S,N))\n",
    "    # Position de Y pour dessiner par la définition drawParabol\n",
    "    Vy = [drawParabol(t,S,N) for t in Vx]\n",
    "    print(Vy)\n",
    "    plt.plot(Lx, Ly, \"-b\")\n",
    "    \n",
    "drawLine((1.5, 10), (10.5,10))"
   ]
  },
  {
   "cell_type": "code",
   "execution_count": null,
   "id": "c8f99548",
   "metadata": {},
   "outputs": [],
   "source": [
    "def drawMultiplePoint(p):\n",
    "    # Créer des points pour dessinner\n",
    "    X = [t[0] for t in p]\n",
    "    Y = [t[1] for t in p]\n",
    "    N = len(X)\n",
    "    plt.plot(X,Y, \"*r\")\n",
    "    print(X)\n",
    "    # Créer des listes pour calculer matrix\n",
    "    A = np.array(createListX(X,N))\n",
    "    b = np.array(createListY(Y,N))\n",
    "    S = solve(A,b)\n",
    "   \n",
    "    # Position de X pour dessiner avec nombre de points\n",
    "    Vx = np.linspace(min(X),max(X), 100)\n",
    "   \n",
    "    # Position de Y pour dessiner par la définition drawParabol\n",
    "    Vy = [drawParabol(t,S,N) for t in Vx]\n",
    "    plt.plot(Vx, Vy, \"-b\")\n",
    "    plt.fill(Vx, Vy, \"#e3ddcf\")\n",
    "    \n",
    "p = [(2,10),(3,2),(4,1),(6,1),(8,1),(9,2),(10,10)]\n",
    "p = [(1.5, 10.5),(2,10),(6,10),(10,10),(10.5,10.5)]\n",
    "drawMultiplePoint(p)"
   ]
  },
  {
   "cell_type": "code",
   "execution_count": null,
   "id": "2bec21b4",
   "metadata": {},
   "outputs": [],
   "source": [
    "# Des points pour faire U dans bubble tea\n",
    "X = [2,3,4,6,8,9,10]\n",
    "Y = [10,2,1,1,1,2,10]\n",
    "N = len(X)\n",
    "plt.plot(X,Y, \"*r\")"
   ]
  },
  {
   "cell_type": "code",
   "execution_count": 4,
   "id": "16f1e6a2",
   "metadata": {},
   "outputs": [],
   "source": [
    "LIGHT_BROWN = \"#f4cfb2\"\n",
    "LIGHT_BLUE = \"#e2efff\"\n",
    "BROWN = \"#c76b3a\"\n",
    "MOYEN_BROWN = \"#d39063\"\n",
    "BLACK = \"#1d232b\"\n",
    "PINK = \"#faa0ba\"\n",
    "WHITE = \"#ffffff\"\n",
    "ORANGE = \"#ffc198\""
   ]
  },
  {
   "cell_type": "code",
   "execution_count": null,
   "id": "94a52eaa",
   "metadata": {},
   "outputs": [],
   "source": [
    "def drawCircle(pos,start = 0, end = 2*np.pi,taille = 1, color=BROWN, border=BLACK):\n",
    "    T = np.linspace(start,end,100)\n",
    "    Vx=taille*np.cos(T)+pos[0]\n",
    "    Vy=taille*np.sin(T)+pos[1]\n",
    "    plt.plot(Vx,Vy,border)\n",
    "    plt.fill(Vx,Vy,color)\n",
    "    \n",
    "drawCircle((0,0), np.pi/2, (-1)*np.pi/2)\n",
    "plt.axis('equal')"
   ]
  },
  {
   "cell_type": "code",
   "execution_count": null,
   "id": "54560680",
   "metadata": {},
   "outputs": [],
   "source": [
    "pointLine1 = [(2, 10), (11,10)]\n",
    "print(pointLine1[1][0])"
   ]
  },
  {
   "cell_type": "code",
   "execution_count": null,
   "id": "f657dad0",
   "metadata": {},
   "outputs": [],
   "source": [
    "def drawCircle(pos,start = 0, end = 2*np.pi,R1 = 0.5,R2=0.5, color=BROWN, border=BLACK):\n",
    "    T = np.linspace(start,end,100)\n",
    "    Vx=R1*np.cos(T)+pos[0]\n",
    "    Vy=R2*np.sin(T)+pos[1]\n",
    "    plt.plot(Vx,Vy,border)\n",
    "    plt.fill(Vx,Vy,color)\n",
    "    \n",
    "drawCircle((0,0), 0, 2*np.pi,1,0.1,ORANGE)\n",
    "plt.axis('equal')"
   ]
  },
  {
   "cell_type": "code",
   "execution_count": 25,
   "id": "ba6972c7",
   "metadata": {},
   "outputs": [
    {
     "data": {
      "image/png": "[encoded data removed]",
      "text/plain": [
       "<Figure size 432x288 with 1 Axes>"
      ]
     },
     "metadata": {
      "needs_background": "light"
     },
     "output_type": "display_data"
    }
   ],
   "source": [
    "def eleminateInterval(Vy,y1,y2): return [y1<=t<=y2 for t in Vy]\n",
    "  \n",
    "\n",
    "def drawHeadCup(pos,start = 0, end = 2*np.pi,R1 = 0.5,R2=0.5, color=BROWN, border=BLACK):\n",
    "    T = np.linspace(start,end,100)\n",
    "    Vx=R1*np.cos(T)+pos[0]\n",
    "    Vy=R2*np.sin(T)+pos[1] \n",
    "    \n",
    "    plt.plot(Vx,Vy, border)\n",
    "    plt.fill(Vx,Vy,color)\n",
    "    \n",
    "    \n",
    "drawHeadCup((6,11),0, np.pi,4,3,MOYEN_BROWN)"
   ]
  },
  {
   "cell_type": "code",
   "execution_count": 43,
   "id": "6b165fe3",
   "metadata": {},
   "outputs": [
    {
     "data": {
      "text/plain": [
       "[<matplotlib.lines.Line2D at 0x117226520>]"
      ]
     },
     "execution_count": 43,
     "metadata": {},
     "output_type": "execute_result"
    },
    {
     "data": {
      "image/png": "[encoded data removed]",
      "text/plain": [
       "<Figure size 432x288 with 1 Axes>"
      ]
     },
     "metadata": {
      "needs_background": "light"
     },
     "output_type": "display_data"
    }
   ],
   "source": [
    "# PROF\n",
    "X = [1, 5, 7]\n",
    "Y = [2, 3, 8]\n",
    "alpha0 = -5\n",
    "alpha2 = 8\n",
    "\n",
    "matrix = np.array([\n",
    "[1, X[0], X[0] ** 2, X[0] ** 3, 0, 0, 0, 0],\n",
    "[0, 1, 2 * X[0], 3 * X[0] ** 2, 0, 0, 0 ,0],\n",
    "[1, X[1], X[1] ** 2, X[1] ** 3, 0, 0, 0, 0],\n",
    "[0, 0, 0, 0, 1, X[1], X[1] ** 2, X[1] ** 3],\n",
    "[0, 1, 2 * X[1], 3 * X[1] ** 2, 0, -1, -2* X[1], -3 * X[1] ** 2],\n",
    "[0, 0, 2, 6 * X[1], 0, 0, -2, -6 * X[1]],\n",
    "[0, 0, 0, 0, 0, 1, 2 * X[2], 3 * X[2] ** 2],\n",
    "[0, 0, 0, 0, 1, X[2], X[2] ** 2, X[2] ** 3]\n",
    "])\n",
    "b = np.array([Y[0], alpha0, Y[1], Y[1], 0, 0, alpha2, Y[2]])\n",
    "S = solve(matrix, b)\n",
    "\n",
    "def P(x): return S[0] + S[1] * x + S[2] * x ** 2 + S[3] * x ** 3\n",
    "def Q(x): return S[4] + S[5] * x + S[6] * x ** 2 + S[7] * x ** 3\n",
    "\n",
    "Vp = np.linspace(X[0], X[1], 100)\n",
    "Vq = np.linspace(X[1], X[2], 100)\n",
    "plt.plot(X, Y, \"+r\")\n",
    "plt.plot(Vp, P(Vp), \"-b\")\n",
    "plt.plot(Vq, Q(Vq), \"-y\")"
   ]
  },
  {
   "cell_type": "code",
   "execution_count": 27,
   "id": "4355da06",
   "metadata": {},
   "outputs": [],
   "source": []
  },
  {
   "cell_type": "code",
   "execution_count": 28,
   "id": "4cec4595",
   "metadata": {},
   "outputs": [],
   "source": []
  },
  {
   "cell_type": "code",
   "execution_count": 29,
   "id": "4e154c22",
   "metadata": {},
   "outputs": [
    {
     "data": {
      "text/plain": [
       "[<matplotlib.lines.Line2D at 0x116e097c0>]"
      ]
     },
     "execution_count": 29,
     "metadata": {},
     "output_type": "execute_result"
    },
    {
     "data": {
      "image/png": "[encoded data removed]",
      "text/plain": [
       "<Figure size 432x288 with 1 Axes>"
      ]
     },
     "metadata": {
      "needs_background": "light"
     },
     "output_type": "display_data"
    }
   ],
   "source": []
  },
  {
   "cell_type": "code",
   "execution_count": 36,
   "id": "19f6e30e",
   "metadata": {},
   "outputs": [],
   "source": [
    "def drawParabol(x, S, N): return sum(S[t]*(x**t) for t in range(N))\n",
    "def createListX(X, N): return [1*[X[d]**t for t in range(N)] for d in range(N)]\n",
    "def createListY(Y, N): return [Y[t] for t in range(N)]\n",
    "\n",
    "def drawMultiplePoint(points, color=LIGHT_BROWN, border=BLACK):\n",
    "    # Créer des points pour dessinner\n",
    "    X = [t[0] for t in points]\n",
    "    Y = [t[1] for t in points]\n",
    "    N = len(X)\n",
    "    plt.plot(X,Y, \"*r\")\n",
    "\n",
    "    # Créer des listes pour calculer matrix\n",
    "    A = np.array(createListX(X,N))\n",
    "    b = np.array(createListY(Y,N))\n",
    "    S = solve(A,b)\n",
    "   \n",
    "    # Position de X pour dessiner avec nombre de points\n",
    "    Vx = np.linspace(min(X),max(X), 100)\n",
    "   \n",
    "    # Position de Y pour dessiner par la définition drawParabol\n",
    "    Vy = [drawParabol(t,S,N) for t in Vx]\n",
    "    plt.plot(Vx,Vy,border,linewidth=1)\n",
    "    plt.fill(Vx, Vy, color)"
   ]
  },
  {
   "cell_type": "code",
   "execution_count": 42,
   "id": "d6faf4f3",
   "metadata": {},
   "outputs": [
    {
     "data": {
      "text/plain": [
       "(1.6, 10.4, 0.395702755417399, 10.457347487837385)"
      ]
     },
     "execution_count": 42,
     "metadata": {},
     "output_type": "execute_result"
    },
    {
     "data": {
      "image/png": "[encoded data removed]",
      "text/plain": [
       "<Figure size 432x288 with 1 Axes>"
      ]
     },
     "metadata": {
      "needs_background": "light"
     },
     "output_type": "display_data"
    }
   ],
   "source": [
    "point = [(2,10),(4,1),(6,1.1),(8,1),(10,10)]\n",
    "#point = [(2,10),(3,2),(4,1),(6,1.1),(8,1),(9,2),(10,10)]\n",
    "drawMultiplePoint(point)\n",
    "plt.axis('equal')"
   ]
  },
  {
   "cell_type": "code",
   "execution_count": null,
   "id": "a8b5f060",
   "metadata": {},
   "outputs": [],
   "source": []
  }
 ],
 "metadata": {
  "kernelspec": {
   "display_name": "Python 3 (ipykernel)",
   "language": "python",
   "name": "python3"
  },
  "language_info": {
   "codemirror_mode": {
    "name": "ipython",
    "version": 3
   },
   "file_extension": ".py",
   "mimetype": "text/x-python",
   "name": "python",
   "nbconvert_exporter": "python",
   "pygments_lexer": "ipython3",
   "version": "3.9.15"
  }
 },
 "nbformat": 4,
 "nbformat_minor": 5
}
